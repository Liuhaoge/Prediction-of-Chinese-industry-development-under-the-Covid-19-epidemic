{
 "cells": [
  {
   "cell_type": "code",
   "execution_count": 2,
   "metadata": {},
   "outputs": [],
   "source": [
    "#Print all the variables, not only the last one\n",
    "from IPython.core.interactiveshell import InteractiveShell\n",
    "InteractiveShell.ast_node_interactivity = \"all\""
   ]
  },
  {
   "cell_type": "code",
   "execution_count": 3,
   "metadata": {},
   "outputs": [
    {
     "name": "stderr",
     "output_type": "stream",
     "text": [
      "/Users/ressnn/anaconda3/lib/python3.7/site-packages/pandas/compat/_optional.py:138: UserWarning: Pandas requires version '2.7.0' or newer of 'numexpr' (version '2.6.9' currently installed).\n",
      "  warnings.warn(msg, UserWarning)\n"
     ]
    }
   ],
   "source": [
    "import matplotlib.pyplot as plt\n",
    "%matplotlib inline\n",
    "import numpy as np\n",
    "import pandas as pd"
   ]
  },
  {
   "cell_type": "code",
   "execution_count": 3,
   "metadata": {},
   "outputs": [],
   "source": [
    "from sklearn.model_selection import train_test_split\n",
    "from sklearn.metrics import precision_score, recall_score, accuracy_score\n",
    "from sklearn.metrics import roc_curve, auc\n",
    "\n",
    "from tensorflow.python.keras import layers, models\n",
    "\n",
    "from tensorflow.python.keras.layers.recurrent import LSTM"
   ]
  },
  {
   "cell_type": "code",
   "execution_count": 18,
   "metadata": {},
   "outputs": [],
   "source": [
    "def f(x):\n",
    "    if x>0.5:\n",
    "        return 1\n",
    "    else:\n",
    "        return 0"
   ]
  },
  {
   "cell_type": "code",
   "execution_count": 10,
   "metadata": {},
   "outputs": [],
   "source": [
    "def acu_curve(y,prob):\n",
    "    fpr,tpr,threshold = roc_curve(y,prob) ###计算真正率和假正率\n",
    "    roc_auc = auc(fpr,tpr) ###计算auc的值\n",
    "    print(roc_auc)\n",
    " \n",
    "    plt.figure()\n",
    "    lw = 2\n",
    "    plt.figure(figsize=(10,10))\n",
    "    plt.plot(fpr, tpr, color='darkorange',\n",
    "             lw=lw, label='ROC curve (area = %0.3f)' % roc_auc) ###假正率为横坐标，真正率为纵坐标做曲线\n",
    "    plt.plot([0, 1], [0, 1], color='navy', lw=lw, linestyle='--')\n",
    "    plt.xlim([0.0, 1.0])\n",
    "    plt.ylim([0.0, 1.05])\n",
    "    plt.xlabel('False Positive Rate')\n",
    "    plt.ylabel('True Positive Rate')\n",
    "    plt.title('Receiver operating characteristic example')\n",
    "    plt.legend(loc=\"lower right\")\n",
    " \n",
    "    plt.show()"
   ]
  },
  {
   "cell_type": "code",
   "execution_count": 51,
   "metadata": {},
   "outputs": [],
   "source": [
    "data0 = pd.read_csv('raw_stock_data.csv').drop('Unnamed: 0',axis=1).sample(frac=0.25, replace=False)\n",
    "data1 = pd.read_csv('result_data1.csv').drop('Unnamed: 0',axis=1).sample(frac=0.3, replace=False)\n",
    "data2 = pd.read_csv('result_data2.csv').drop('Unnamed: 0',axis=1).sample(frac=0.5, replace=False)\n",
    "data3 = pd.read_csv('result_data3.csv').drop('Unnamed: 0',axis=1).sample(frac=0.1, replace=False)\n",
    "data4 = pd.read_csv('result_data4.csv').drop('Unnamed: 0',axis=1).sample(frac=0.5, replace=False)\n",
    "data5 = pd.read_csv('result_data5.csv').drop('Unnamed: 0',axis=1).sample(frac=0.3, replace=False)\n",
    "data6 = pd.read_csv('result_data6.csv').drop('Unnamed: 0',axis=1).sample(frac=0.1, replace=False)\n",
    "data7 = pd.read_csv('result_data7.csv').drop('Unnamed: 0',axis=1).sample(frac=0.3, replace=False)"
   ]
  },
  {
   "cell_type": "code",
   "execution_count": 52,
   "metadata": {},
   "outputs": [
    {
     "data": {
      "text/plain": [
       "715872"
      ]
     },
     "execution_count": 52,
     "metadata": {},
     "output_type": "execute_result"
    },
    {
     "data": {
      "text/plain": [
       "870389"
      ]
     },
     "execution_count": 52,
     "metadata": {},
     "output_type": "execute_result"
    },
    {
     "data": {
      "text/plain": [
       "588458"
      ]
     },
     "execution_count": 52,
     "metadata": {},
     "output_type": "execute_result"
    },
    {
     "data": {
      "text/plain": [
       "520940"
      ]
     },
     "execution_count": 52,
     "metadata": {},
     "output_type": "execute_result"
    },
    {
     "data": {
      "text/plain": [
       "746895"
      ]
     },
     "execution_count": 52,
     "metadata": {},
     "output_type": "execute_result"
    },
    {
     "data": {
      "text/plain": [
       "651840"
      ]
     },
     "execution_count": 52,
     "metadata": {},
     "output_type": "execute_result"
    },
    {
     "data": {
      "text/plain": [
       "535632"
      ]
     },
     "execution_count": 52,
     "metadata": {},
     "output_type": "execute_result"
    },
    {
     "data": {
      "text/plain": [
       "738108"
      ]
     },
     "execution_count": 52,
     "metadata": {},
     "output_type": "execute_result"
    }
   ],
   "source": [
    "data0.size\n",
    "data1.size\n",
    "data2.size\n",
    "data3.size\n",
    "data4.size\n",
    "data5.size\n",
    "data6.size\n",
    "data7.size"
   ]
  },
  {
   "cell_type": "code",
   "execution_count": 29,
   "metadata": {
    "scrolled": true
   },
   "outputs": [
    {
     "name": "stdout",
     "output_type": "stream",
     "text": [
      "Epoch 1/20\n",
      "71587/71587 [==============================] - 580s 8ms/step - loss: 0.2524\n",
      "Epoch 2/20\n",
      "71587/71587 [==============================] - 597s 8ms/step - loss: 0.2504\n",
      "Epoch 3/20\n",
      "71587/71587 [==============================] - 551s 8ms/step - loss: 0.2287\n",
      "Epoch 4/20\n",
      "71587/71587 [==============================] - 536s 7ms/step - loss: 0.1917\n",
      "Epoch 5/20\n",
      "71587/71587 [==============================] - 540s 8ms/step - loss: 0.1772\n",
      "Epoch 6/20\n",
      "71587/71587 [==============================] - 537s 8ms/step - loss: 0.1725\n",
      "Epoch 7/20\n",
      "71587/71587 [==============================] - 539s 8ms/step - loss: 0.1710\n",
      "Epoch 8/20\n",
      "71587/71587 [==============================] - 599s 8ms/step - loss: 0.1689 0s - loss: 0\n",
      "Epoch 9/20\n",
      "71587/71587 [==============================] - 615s 9ms/step - loss: 0.1634\n",
      "Epoch 10/20\n",
      "71587/71587 [==============================] - 622s 9ms/step - loss: 0.1637\n",
      "Epoch 11/20\n",
      "71587/71587 [==============================] - 644s 9ms/step - loss: 0.1629\n",
      "Epoch 12/20\n",
      "71587/71587 [==============================] - 622s 9ms/step - loss: 0.1629\n",
      "Epoch 13/20\n",
      "71587/71587 [==============================] - 590s 8ms/step - loss: 0.1597\n",
      "Epoch 14/20\n",
      "71587/71587 [==============================] - 583s 8ms/step - loss: 0.1574\n",
      "Epoch 15/20\n",
      "71587/71587 [==============================] - 594s 8ms/step - loss: 0.1600\n",
      "Epoch 16/20\n",
      "71587/71587 [==============================] - 706s 10ms/step - loss: 0.1651\n",
      "Epoch 17/20\n",
      "71587/71587 [==============================] - 579s 8ms/step - loss: 0.1688\n",
      "Epoch 18/20\n",
      "71587/71587 [==============================] - 552s 8ms/step - loss: 0.1668\n",
      "Epoch 19/20\n",
      "71587/71587 [==============================] - 560s 8ms/step - loss: 0.1652\n",
      "Epoch 20/20\n",
      "71587/71587 [==============================] - 586s 8ms/step - loss: 0.1628\n"
     ]
    },
    {
     "data": {
      "text/plain": [
       "<tensorflow.python.keras.callbacks.History at 0x1a2ad9f780>"
      ]
     },
     "execution_count": 29,
     "metadata": {},
     "output_type": "execute_result"
    },
    {
     "name": "stdout",
     "output_type": "stream",
     "text": [
      "0.7327093596059113\n",
      "0.8198655054569507\n",
      "0.7571101301894172\n",
      "0.8532202263269272\n"
     ]
    },
    {
     "data": {
      "text/plain": [
       "<Figure size 432x288 with 0 Axes>"
      ]
     },
     "metadata": {},
     "output_type": "display_data"
    },
    {
     "data": {
      "image/png": "[encoded data removed]",
      "text/plain": [
       "<Figure size 720x720 with 1 Axes>"
      ]
     },
     "metadata": {
      "needs_background": "light"
     },
     "output_type": "display_data"
    }
   ],
   "source": [
    "X=data0.drop(['trade_date','trend'],axis=1).values\n",
    "y=data0.trend.values\n",
    "Xtrain_set, Xtest, ytrain_set, ytest = train_test_split(X, y, test_size=0.2, random_state=24)\n",
    "\n",
    "new_Xtrain_set = np.reshape( Xtrain_set, (Xtrain_set.shape[0], Xtrain_set.shape[1], 1) )#Lstm调用库函数必须要进行维度转换\n",
    "\n",
    "model = models.Sequential()\n",
    "model.add( LSTM( 40, input_shape=(new_Xtrain_set.shape[1], new_Xtrain_set.shape[2]), return_sequences=True) )\n",
    "model.add( LSTM( 5, return_sequences=False ) )\n",
    "model.add( layers.Dropout( 0.2 ) )\n",
    "model.add( layers.Dense( 1 ) )\n",
    "model.compile( loss=\"mse\", optimizer=\"rmsprop\" )\n",
    "model.fit( new_Xtrain_set, ytrain_set, epochs=20, batch_size=1)#参数依次为特征，标签，训练循环次数，小批量（一次放入训练的数据个数）\n",
    "\n",
    "new_Xtest = np.reshape( Xtest, (Xtest.shape[0], Xtest.shape[1], 1) )#维度转换\n",
    "pred_test_prob = model.predict(new_Xtest)\n",
    "pred_test=list(map(f,pred_test_prob))\n",
    "#pred_test_prob = model.predict_proba(new_Xtest)[:,1]\n",
    "\n",
    "print(precision_score(ytest, pred_test))\n",
    "print(recall_score(ytest, pred_test))\n",
    "print(accuracy_score(ytest, pred_test))\n",
    "acu_curve(ytest,pred_test_prob)"
   ]
  },
  {
   "cell_type": "code",
   "execution_count": 23,
   "metadata": {
    "scrolled": true
   },
   "outputs": [
    {
     "name": "stdout",
     "output_type": "stream",
     "text": [
      "Epoch 1/20\n",
      "53562/53562 [==============================] - 633s 12ms/step - loss: 0.2522\n",
      "Epoch 2/20\n",
      "53562/53562 [==============================] - 2643s 49ms/step - loss: 0.2491\n",
      "Epoch 3/20\n",
      "53562/53562 [==============================] - 1620s 30ms/step - loss: 0.2208\n",
      "Epoch 4/20\n",
      "53562/53562 [==============================] - 827s 15ms/step - loss: 0.1906\n",
      "Epoch 5/20\n",
      "53562/53562 [==============================] - 4665s 87ms/step - loss: 0.1765\n",
      "Epoch 6/20\n",
      "53562/53562 [==============================] - 826s 15ms/step - loss: 0.1747\n",
      "Epoch 7/20\n",
      "53562/53562 [==============================] - 894s 17ms/step - loss: 0.1751\n",
      "Epoch 8/20\n",
      "53562/53562 [==============================] - 824s 15ms/step - loss: 0.1697\n",
      "Epoch 9/20\n",
      "53562/53562 [==============================] - 677s 13ms/step - loss: 0.1674\n",
      "Epoch 10/20\n",
      "53562/53562 [==============================] - 980s 18ms/step - loss: 0.1631\n",
      "Epoch 11/20\n",
      "53562/53562 [==============================] - 644s 12ms/step - loss: 0.1638\n",
      "Epoch 12/20\n",
      "53562/53562 [==============================] - 1045s 20ms/step - loss: 0.1631\n",
      "Epoch 13/20\n",
      "53562/53562 [==============================] - 753s 14ms/step - loss: 0.1665\n",
      "Epoch 14/20\n",
      "53562/53562 [==============================] - 1008s 19ms/step - loss: 0.1588\n",
      "Epoch 15/20\n",
      "53562/53562 [==============================] - 1195s 22ms/step - loss: 0.1573\n",
      "Epoch 16/20\n",
      "53562/53562 [==============================] - 1056s 20ms/step - loss: 0.1572\n",
      "Epoch 17/20\n",
      "53562/53562 [==============================] - 819s 15ms/step - loss: 0.1585\n",
      "Epoch 18/20\n",
      "53562/53562 [==============================] - 728s 14ms/step - loss: 0.1608\n",
      "Epoch 19/20\n",
      "53562/53562 [==============================] - 663s 12ms/step - loss: 0.1594\n",
      "Epoch 20/20\n",
      "53562/53562 [==============================] - 676s 13ms/step - loss: 0.1574\n"
     ]
    },
    {
     "data": {
      "text/plain": [
       "<tensorflow.python.keras.callbacks.History at 0x1a283ac7f0>"
      ]
     },
     "execution_count": 23,
     "metadata": {},
     "output_type": "execute_result"
    },
    {
     "name": "stdout",
     "output_type": "stream",
     "text": [
      "0.8750221278102319\n",
      "0.7088770973755916\n",
      "0.7956836681353148\n",
      "0.9048447430473155\n"
     ]
    },
    {
     "data": {
      "text/plain": [
       "<Figure size 432x288 with 0 Axes>"
      ]
     },
     "metadata": {},
     "output_type": "display_data"
    },
    {
     "data": {
      "image/png": "[encoded data removed]",
      "text/plain": [
       "<Figure size 720x720 with 1 Axes>"
      ]
     },
     "metadata": {
      "needs_background": "light"
     },
     "output_type": "display_data"
    }
   ],
   "source": [
    "X=data1.drop(['trade_date','trend','trade_month'],axis=1).values\n",
    "y=data1.trend.values\n",
    "Xtrain_set, Xtest, ytrain_set, ytest = train_test_split(X, y, test_size=0.2, random_state=24)\n",
    "\n",
    "new_Xtrain_set = np.reshape( Xtrain_set, (Xtrain_set.shape[0], Xtrain_set.shape[1], 1) )#Lstm调用库函数必须要进行维度转换\n",
    "\n",
    "model = models.Sequential()\n",
    "model.add( LSTM( 40, input_shape=(new_Xtrain_set.shape[1], new_Xtrain_set.shape[2]), return_sequences=True) )\n",
    "model.add( LSTM( 5, return_sequences=False ) )\n",
    "model.add( layers.Dropout( 0.2 ) )\n",
    "model.add( layers.Dense( 1 ) )\n",
    "model.compile( loss=\"mse\", optimizer=\"rmsprop\" )\n",
    "model.fit( new_Xtrain_set, ytrain_set, epochs=20, batch_size=1)#参数依次为特征，标签，训练循环次数，小批量（一次放入训练的数据个数）\n",
    "\n",
    "new_Xtest = np.reshape( Xtest, (Xtest.shape[0], Xtest.shape[1], 1) )#维度转换\n",
    "pred_test_prob = model.predict(new_Xtest)\n",
    "pred_test=list(map(f,pred_test_prob))\n",
    "\n",
    "print(precision_score(ytest, pred_test))\n",
    "print(recall_score(ytest, pred_test))\n",
    "print(accuracy_score(ytest, pred_test))\n",
    "acu_curve(ytest, pred_test_prob)"
   ]
  },
  {
   "cell_type": "code",
   "execution_count": 36,
   "metadata": {
    "scrolled": true
   },
   "outputs": [
    {
     "name": "stdout",
     "output_type": "stream",
     "text": [
      "Epoch 1/20\n",
      "36212/36212 [==============================] - 491s 13ms/step - loss: 0.2552\n",
      "Epoch 2/20\n",
      "36212/36212 [==============================] - 443s 12ms/step - loss: 0.2505\n",
      "Epoch 3/20\n",
      "36212/36212 [==============================] - 462s 13ms/step - loss: 0.2512\n",
      "Epoch 4/20\n",
      "36212/36212 [==============================] - 531s 15ms/step - loss: 0.2510\n",
      "Epoch 5/20\n",
      "36212/36212 [==============================] - 516s 14ms/step - loss: 0.2505\n",
      "Epoch 6/20\n",
      "36212/36212 [==============================] - 483s 13ms/step - loss: 0.2503\n",
      "Epoch 7/20\n",
      "36212/36212 [==============================] - 429s 12ms/step - loss: 0.2503\n",
      "Epoch 8/20\n",
      "36212/36212 [==============================] - 439s 12ms/step - loss: 0.2502\n",
      "Epoch 9/20\n",
      "36212/36212 [==============================] - 454s 13ms/step - loss: 0.2502\n",
      "Epoch 10/20\n",
      "36212/36212 [==============================] - 548s 15ms/step - loss: 0.2503\n",
      "Epoch 11/20\n",
      "36212/36212 [==============================] - 473s 13ms/step - loss: 0.2502\n",
      "Epoch 12/20\n",
      "36212/36212 [==============================] - 467s 13ms/step - loss: 0.2502\n",
      "Epoch 13/20\n",
      "36212/36212 [==============================] - 459s 13ms/step - loss: 0.2502\n",
      "Epoch 14/20\n",
      "36212/36212 [==============================] - 483s 13ms/step - loss: 0.2501\n",
      "Epoch 15/20\n",
      "36212/36212 [==============================] - 489s 14ms/step - loss: 0.2503\n",
      "Epoch 16/20\n",
      "36212/36212 [==============================] - 597s 16ms/step - loss: 0.2502\n",
      "Epoch 17/20\n",
      "36212/36212 [==============================] - 620s 17ms/step - loss: 0.2501\n",
      "Epoch 18/20\n",
      "36212/36212 [==============================] - 30342s 838ms/step - loss: 0.2503\n",
      "Epoch 19/20\n",
      "36212/36212 [==============================] - 730s 20ms/step - loss: 0.2502\n",
      "Epoch 20/20\n",
      "36212/36212 [==============================] - 546s 15ms/step - loss: 0.2503\n"
     ]
    },
    {
     "data": {
      "text/plain": [
       "<tensorflow.python.keras.callbacks.History at 0x1a2876bcf8>"
      ]
     },
     "execution_count": 36,
     "metadata": {},
     "output_type": "execute_result"
    },
    {
     "name": "stdout",
     "output_type": "stream",
     "text": [
      "0.5003313452617627\n",
      "1.0\n",
      "0.5003313452617627\n",
      "0.5\n"
     ]
    },
    {
     "data": {
      "text/plain": [
       "<Figure size 432x288 with 0 Axes>"
      ]
     },
     "metadata": {},
     "output_type": "display_data"
    },
    {
     "data": {
      "image/png": "[encoded data removed]",
      "text/plain": [
       "<Figure size 720x720 with 1 Axes>"
      ]
     },
     "metadata": {
      "needs_background": "light"
     },
     "output_type": "display_data"
    }
   ],
   "source": [
    "X=data2.drop(['trade_date','trend','trade_month'],axis=1).values\n",
    "y=data2.trend.values\n",
    "Xtrain_set, Xtest, ytrain_set, ytest = train_test_split(X, y, test_size=0.2, random_state=24)\n",
    "\n",
    "new_Xtrain_set = np.reshape( Xtrain_set, (Xtrain_set.shape[0], Xtrain_set.shape[1], 1) )#Lstm调用库函数必须要进行维度转换\n",
    "\n",
    "model = models.Sequential()\n",
    "model.add( LSTM( 40, input_shape=(new_Xtrain_set.shape[1], new_Xtrain_set.shape[2]), return_sequences=True) )\n",
    "model.add( LSTM( 5, return_sequences=False ) )\n",
    "model.add( layers.Dropout( 0.2 ) )\n",
    "model.add( layers.Dense( 1 ) )\n",
    "model.compile( loss=\"mse\", optimizer=\"rmsprop\" )\n",
    "model.fit( new_Xtrain_set, ytrain_set, epochs=20, batch_size=1)#参数依次为特征，标签，训练循环次数，小批量（一次放入训练的数据个数）\n",
    "\n",
    "new_Xtest = np.reshape( Xtest, (Xtest.shape[0], Xtest.shape[1], 1) )#维度转换\n",
    "pred_test_prob = model.predict(new_Xtest)\n",
    "pred_test=list(map(f,pred_test_prob))\n",
    "\n",
    "print(precision_score(ytest, pred_test))\n",
    "print(recall_score(ytest, pred_test))\n",
    "print(accuracy_score(ytest, pred_test))\n",
    "acu_curve(ytest, pred_test_prob)"
   ]
  },
  {
   "cell_type": "code",
   "execution_count": null,
   "metadata": {},
   "outputs": [],
   "source": []
  },
  {
   "cell_type": "code",
   "execution_count": 42,
   "metadata": {
    "scrolled": true
   },
   "outputs": [
    {
     "name": "stdout",
     "output_type": "stream",
     "text": [
      "Epoch 1/20\n",
      "62513/62513 [==============================] - 1224s 20ms/step - loss: 0.2522\n",
      "Epoch 2/20\n",
      "62513/62513 [==============================] - 1302s 21ms/step - loss: 0.2502\n",
      "Epoch 3/20\n",
      "62513/62513 [==============================] - 1157s 19ms/step - loss: 0.2504\n",
      "Epoch 4/20\n",
      "62513/62513 [==============================] - 1112s 18ms/step - loss: 0.2506\n",
      "Epoch 5/20\n",
      "62513/62513 [==============================] - 1113s 18ms/step - loss: 0.2508\n",
      "Epoch 6/20\n",
      "62513/62513 [==============================] - 1118s 18ms/step - loss: 0.2517\n",
      "Epoch 7/20\n",
      "62513/62513 [==============================] - 1114s 18ms/step - loss: 0.2503\n",
      "Epoch 8/20\n",
      "62513/62513 [==============================] - 1122s 18ms/step - loss: 0.2505\n",
      "Epoch 9/20\n",
      "62513/62513 [==============================] - 1491s 24ms/step - loss: 0.2509\n",
      "Epoch 10/20\n",
      "62513/62513 [==============================] - 1368s 22ms/step - loss: 0.2502\n",
      "Epoch 11/20\n",
      "62513/62513 [==============================] - 3823s 61ms/step - loss: 0.2504\n",
      "Epoch 12/20\n",
      "62513/62513 [==============================] - 1379s 22ms/step - loss: 0.2508\n",
      "Epoch 13/20\n",
      "62513/62513 [==============================] - 1780s 28ms/step - loss: 0.2504\n",
      "Epoch 14/20\n",
      "62513/62513 [==============================] - 1840s 29ms/step - loss: 0.2507\n",
      "Epoch 15/20\n",
      "62513/62513 [==============================] - 1638s 26ms/step - loss: 0.2505\n",
      "Epoch 16/20\n",
      "62513/62513 [==============================] - 1393s 22ms/step - loss: 0.2502\n",
      "Epoch 17/20\n",
      "62513/62513 [==============================] - 1383s 22ms/step - loss: 0.2504\n",
      "Epoch 18/20\n",
      "62513/62513 [==============================] - 3312s 53ms/step - loss: 0.2502\n",
      "Epoch 19/20\n",
      "62513/62513 [==============================] - 1241s 20ms/step - loss: 0.2501\n",
      "Epoch 20/20\n",
      "62513/62513 [==============================] - 78805s 1s/step - loss: 0.2504\n"
     ]
    },
    {
     "data": {
      "text/plain": [
       "<tensorflow.python.keras.callbacks.History at 0x1a35fb2978>"
      ]
     },
     "execution_count": 42,
     "metadata": {},
     "output_type": "execute_result"
    },
    {
     "name": "stdout",
     "output_type": "stream",
     "text": [
      "0.519992172721936\n",
      "0.9895729890764647\n",
      "0.5237699149017851\n",
      "0.5414375959462949\n"
     ]
    },
    {
     "data": {
      "text/plain": [
       "<Figure size 432x288 with 0 Axes>"
      ]
     },
     "metadata": {},
     "output_type": "display_data"
    },
    {
     "data": {
      "image/png": "[encoded data removed]",
      "text/plain": [
       "<Figure size 720x720 with 1 Axes>"
      ]
     },
     "metadata": {
      "needs_background": "light"
     },
     "output_type": "display_data"
    }
   ],
   "source": [
    "X=data3.drop(['trend','trade_month'],axis=1).values\n",
    "y=data3.trend.values\n",
    "Xtrain_set, Xtest, ytrain_set, ytest = train_test_split(X, y, test_size=0.2, random_state=24)\n",
    "\n",
    "new_Xtrain_set = np.reshape( Xtrain_set, (Xtrain_set.shape[0], Xtrain_set.shape[1], 1) )#Lstm调用库函数必须要进行维度转换\n",
    "\n",
    "model = models.Sequential()\n",
    "model.add( LSTM( 40, input_shape=(new_Xtrain_set.shape[1], new_Xtrain_set.shape[2]), return_sequences=True) )\n",
    "model.add( LSTM( 5, return_sequences=False ) )\n",
    "model.add( layers.Dropout( 0.2 ) )\n",
    "model.add( layers.Dense( 1 ) )\n",
    "model.compile( loss=\"mse\", optimizer=\"rmsprop\" )\n",
    "model.fit( new_Xtrain_set, ytrain_set, epochs=20, batch_size=1)#参数依次为特征，标签，训练循环次数，小批量（一次放入训练的数据个数）\n",
    "\n",
    "new_Xtest = np.reshape( Xtest, (Xtest.shape[0], Xtest.shape[1], 1) )#维度转换\n",
    "pred_test_prob = model.predict(new_Xtest)\n",
    "pred_test=list(map(f,pred_test_prob))\n",
    "\n",
    "print(precision_score(ytest, pred_test))\n",
    "print(recall_score(ytest, pred_test))\n",
    "print(accuracy_score(ytest, pred_test))\n",
    "acu_curve(ytest, pred_test_prob)\n",
    "\n"
   ]
  },
  {
   "cell_type": "code",
   "execution_count": 54,
   "metadata": {
    "scrolled": true
   },
   "outputs": [
    {
     "name": "stdout",
     "output_type": "stream",
     "text": [
      "Epoch 1/20\n",
      "35148/35148 [==============================] - 552s 16ms/step - loss: 0.2553\n",
      "Epoch 2/20\n",
      "35148/35148 [==============================] - 518s 15ms/step - loss: 0.2509\n",
      "Epoch 3/20\n",
      "35148/35148 [==============================] - 520s 15ms/step - loss: 0.2504\n",
      "Epoch 4/20\n",
      "35148/35148 [==============================] - 522s 15ms/step - loss: 0.2504\n",
      "Epoch 5/20\n",
      "35148/35148 [==============================] - 510s 15ms/step - loss: 0.2504\n",
      "Epoch 6/20\n",
      "35148/35148 [==============================] - 509s 14ms/step - loss: 0.2505\n",
      "Epoch 7/20\n",
      "35148/35148 [==============================] - 526s 15ms/step - loss: 0.2501\n",
      "Epoch 8/20\n",
      "35148/35148 [==============================] - 509s 14ms/step - loss: 0.2506\n",
      "Epoch 9/20\n",
      "35148/35148 [==============================] - 549s 16ms/step - loss: 0.2506\n",
      "Epoch 10/20\n",
      "35148/35148 [==============================] - 563s 16ms/step - loss: 0.2517\n",
      "Epoch 11/20\n",
      "35148/35148 [==============================] - 532s 15ms/step - loss: 0.2515\n",
      "Epoch 12/20\n",
      "35148/35148 [==============================] - 587s 17ms/step - loss: 0.2518\n",
      "Epoch 13/20\n",
      "35148/35148 [==============================] - 565s 16ms/step - loss: 0.2515\n",
      "Epoch 14/20\n",
      "35148/35148 [==============================] - 534s 15ms/step - loss: 0.2498\n",
      "Epoch 15/20\n",
      "35148/35148 [==============================] - 591s 17ms/step - loss: 0.2486\n",
      "Epoch 16/20\n",
      "35148/35148 [==============================] - 30994s 882ms/step - loss: 0.2479\n",
      "Epoch 17/20\n",
      "35148/35148 [==============================] - 551s 16ms/step - loss: 0.2410\n",
      "Epoch 18/20\n",
      "35148/35148 [==============================] - 568s 16ms/step - loss: 0.2333\n",
      "Epoch 19/20\n",
      "35148/35148 [==============================] - 718s 20ms/step - loss: 0.2263\n",
      "Epoch 20/20\n",
      "35148/35148 [==============================] - 1864s 53ms/step - loss: 0.2144\n"
     ]
    },
    {
     "data": {
      "text/plain": [
       "<tensorflow.python.keras.callbacks.History at 0x1a2b383eb8>"
      ]
     },
     "execution_count": 54,
     "metadata": {},
     "output_type": "execute_result"
    },
    {
     "name": "stdout",
     "output_type": "stream",
     "text": [
      "0.5862403100775194\n",
      "0.9746835443037974\n",
      "0.6473199044042335\n",
      "0.8204395846944819\n"
     ]
    },
    {
     "data": {
      "text/plain": [
       "<Figure size 432x288 with 0 Axes>"
      ]
     },
     "metadata": {},
     "output_type": "display_data"
    },
    {
     "data": {
      "image/png": "[encoded data removed]",
      "text/plain": [
       "<Figure size 720x720 with 1 Axes>"
      ]
     },
     "metadata": {
      "needs_background": "light"
     },
     "output_type": "display_data"
    }
   ],
   "source": [
    "X=data4.drop(['trade_date','trend','trade_month'],axis=1).values\n",
    "y=data4.trend.values\n",
    "Xtrain_set, Xtest, ytrain_set, ytest = train_test_split(X, y, test_size=0.2, random_state=24)\n",
    "\n",
    "new_Xtrain_set = np.reshape( Xtrain_set, (Xtrain_set.shape[0], Xtrain_set.shape[1], 1) )#Lstm调用库函数必须要进行维度转换\n",
    "\n",
    "model = models.Sequential()\n",
    "model.add( LSTM( 40, input_shape=(new_Xtrain_set.shape[1], new_Xtrain_set.shape[2]), return_sequences=True) )\n",
    "model.add( LSTM( 5, return_sequences=False ) )\n",
    "model.add( layers.Dropout( 0.2 ) )\n",
    "model.add( layers.Dense( 1 ) )\n",
    "model.compile( loss=\"mse\", optimizer=\"rmsprop\" )\n",
    "model.fit( new_Xtrain_set, ytrain_set, epochs=20, batch_size=1)#参数依次为特征，标签，训练循环次数，小批量（一次放入训练的数据个数）\n",
    "\n",
    "new_Xtest = np.reshape( Xtest, (Xtest.shape[0], Xtest.shape[1], 1) )#维度转换\n",
    "pred_test_prob = model.predict(new_Xtest)\n",
    "pred_test=list(map(f,pred_test_prob))\n",
    "\n",
    "print(precision_score(ytest, pred_test))\n",
    "print(recall_score(ytest, pred_test))\n",
    "print(accuracy_score(ytest, pred_test))\n",
    "acu_curve(ytest, pred_test_prob)"
   ]
  },
  {
   "cell_type": "code",
   "execution_count": null,
   "metadata": {},
   "outputs": [],
   "source": []
  },
  {
   "cell_type": "code",
   "execution_count": 56,
   "metadata": {
    "scrolled": true
   },
   "outputs": [
    {
     "name": "stdout",
     "output_type": "stream",
     "text": [
      "Epoch 1/20\n",
      "21728/21728 [==============================] - 699s 32ms/step - loss: 0.2573\n",
      "Epoch 2/20\n",
      "21728/21728 [==============================] - 4207s 194ms/step - loss: 0.2507\n",
      "Epoch 3/20\n",
      "21728/21728 [==============================] - 494s 23ms/step - loss: 0.2503\n",
      "Epoch 4/20\n",
      "21728/21728 [==============================] - 487s 22ms/step - loss: 0.2503\n",
      "Epoch 5/20\n",
      "21728/21728 [==============================] - 606s 28ms/step - loss: 0.2502\n",
      "Epoch 6/20\n",
      "21728/21728 [==============================] - 507s 23ms/step - loss: 0.2502\n",
      "Epoch 7/20\n",
      "21728/21728 [==============================] - 498s 23ms/step - loss: 0.2503\n",
      "Epoch 8/20\n",
      "21728/21728 [==============================] - 495s 23ms/step - loss: 0.2503\n",
      "Epoch 9/20\n",
      "21728/21728 [==============================] - 485s 22ms/step - loss: 0.2503\n",
      "Epoch 10/20\n",
      "21728/21728 [==============================] - 480s 22ms/step - loss: 0.2502\n",
      "Epoch 11/20\n",
      "21728/21728 [==============================] - 491s 23ms/step - loss: 0.2503\n",
      "Epoch 12/20\n",
      "21728/21728 [==============================] - 530s 24ms/step - loss: 0.2502\n",
      "Epoch 13/20\n",
      "21728/21728 [==============================] - 460s 21ms/step - loss: 0.2503\n",
      "Epoch 14/20\n",
      "21728/21728 [==============================] - 500s 23ms/step - loss: 0.2503\n",
      "Epoch 15/20\n",
      "21728/21728 [==============================] - 1534s 71ms/step - loss: 0.2502\n",
      "Epoch 16/20\n",
      "21728/21728 [==============================] - 473s 22ms/step - loss: 0.2502\n",
      "Epoch 17/20\n",
      "21728/21728 [==============================] - 476s 22ms/step - loss: 0.2502\n",
      "Epoch 18/20\n",
      "21728/21728 [==============================] - 483s 22ms/step - loss: 0.2503\n",
      "Epoch 19/20\n",
      "21728/21728 [==============================] - 483s 22ms/step - loss: 0.2502\n",
      "Epoch 20/20\n",
      "21728/21728 [==============================] - 41175s 2s/step - loss: 0.2503\n"
     ]
    },
    {
     "data": {
      "text/plain": [
       "<tensorflow.python.keras.callbacks.History at 0x1a2e7f5518>"
      ]
     },
     "execution_count": 56,
     "metadata": {},
     "output_type": "execute_result"
    },
    {
     "name": "stdout",
     "output_type": "stream",
     "text": [
      "0.0\n",
      "0.0\n",
      "0.5022091310751104\n",
      "0.5\n"
     ]
    },
    {
     "name": "stderr",
     "output_type": "stream",
     "text": [
      "/Users/ressnn/anaconda3/lib/python3.7/site-packages/sklearn/metrics/classification.py:1437: UndefinedMetricWarning: Precision is ill-defined and being set to 0.0 due to no predicted samples.\n",
      "  'precision', 'predicted', average, warn_for)\n"
     ]
    },
    {
     "data": {
      "text/plain": [
       "<Figure size 432x288 with 0 Axes>"
      ]
     },
     "metadata": {},
     "output_type": "display_data"
    },
    {
     "data": {
      "image/png": "[encoded data removed]",
      "text/plain": [
       "<Figure size 720x720 with 1 Axes>"
      ]
     },
     "metadata": {
      "needs_background": "light"
     },
     "output_type": "display_data"
    }
   ],
   "source": [
    "X=data5.drop(['trend','trade_month'],axis=1).values\n",
    "y=data5.trend.values\n",
    "Xtrain_set, Xtest, ytrain_set, ytest = train_test_split(X, y, test_size=0.2, random_state=24)\n",
    "\n",
    "new_Xtrain_set = np.reshape( Xtrain_set, (Xtrain_set.shape[0], Xtrain_set.shape[1], 1) )#Lstm调用库函数必须要进行维度转换\n",
    "\n",
    "model = models.Sequential()\n",
    "model.add( LSTM( 40, input_shape=(new_Xtrain_set.shape[1], new_Xtrain_set.shape[2]), return_sequences=True) )\n",
    "model.add( LSTM( 5, return_sequences=False ) )\n",
    "model.add( layers.Dropout( 0.2 ) )\n",
    "model.add( layers.Dense( 1 ) )\n",
    "model.compile( loss=\"mse\", optimizer=\"rmsprop\" )\n",
    "model.fit( new_Xtrain_set, ytrain_set, epochs=20, batch_size=1)#参数依次为特征，标签，训练循环次数，小批量（一次放入训练的数据个数）\n",
    "\n",
    "new_Xtest = np.reshape( Xtest, (Xtest.shape[0], Xtest.shape[1], 1) )#维度转换\n",
    "pred_test_prob = model.predict(new_Xtest)\n",
    "pred_test=list(map(f,pred_test_prob))\n",
    "\n",
    "print(precision_score(ytest, pred_test))\n",
    "print(recall_score(ytest, pred_test))\n",
    "print(accuracy_score(ytest, pred_test))\n",
    "acu_curve(ytest, pred_test_prob)"
   ]
  },
  {
   "cell_type": "code",
   "execution_count": null,
   "metadata": {},
   "outputs": [],
   "source": []
  },
  {
   "cell_type": "code",
   "execution_count": 59,
   "metadata": {
    "scrolled": true
   },
   "outputs": [
    {
     "name": "stdout",
     "output_type": "stream",
     "text": [
      "Epoch 1/20\n",
      "17854/17854 [==============================] - 538s 30ms/step - loss: 0.25720s - loss: 0.\n",
      "Epoch 2/20\n",
      "17854/17854 [==============================] - 480s 27ms/step - loss: 0.2512\n",
      "Epoch 3/20\n",
      "17854/17854 [==============================] - 405s 23ms/step - loss: 0.2507\n",
      "Epoch 4/20\n",
      "17854/17854 [==============================] - 392s 22ms/step - loss: 0.2493\n",
      "Epoch 5/20\n",
      "17854/17854 [==============================] - 371s 21ms/step - loss: 0.2490\n",
      "Epoch 6/20\n",
      "17854/17854 [==============================] - 371s 21ms/step - loss: 0.2491\n",
      "Epoch 7/20\n",
      "17854/17854 [==============================] - 371s 21ms/step - loss: 0.2488\n",
      "Epoch 8/20\n",
      "17854/17854 [==============================] - 372s 21ms/step - loss: 0.2490\n",
      "Epoch 9/20\n",
      "17854/17854 [==============================] - 371s 21ms/step - loss: 0.2490\n",
      "Epoch 10/20\n",
      "17854/17854 [==============================] - 373s 21ms/step - loss: 0.2489\n",
      "Epoch 11/20\n",
      "17854/17854 [==============================] - 371s 21ms/step - loss: 0.2490\n",
      "Epoch 12/20\n",
      "17854/17854 [==============================] - 371s 21ms/step - loss: 0.2493\n",
      "Epoch 13/20\n",
      "17854/17854 [==============================] - 371s 21ms/step - loss: 0.2500\n",
      "Epoch 14/20\n",
      "17854/17854 [==============================] - 371s 21ms/step - loss: 0.2497\n",
      "Epoch 15/20\n",
      "17854/17854 [==============================] - 370s 21ms/step - loss: 0.2494\n",
      "Epoch 16/20\n",
      "17854/17854 [==============================] - 370s 21ms/step - loss: 0.2497\n",
      "Epoch 17/20\n",
      "17854/17854 [==============================] - 371s 21ms/step - loss: 0.2497\n",
      "Epoch 18/20\n",
      "17854/17854 [==============================] - 370s 21ms/step - loss: 0.2497\n",
      "Epoch 19/20\n",
      "17854/17854 [==============================] - 2161s 121ms/step - loss: 0.2498\n",
      "Epoch 20/20\n",
      "17854/17854 [==============================] - 403s 23ms/step - loss: 0.2498\n"
     ]
    },
    {
     "data": {
      "text/plain": [
       "<tensorflow.python.keras.callbacks.History at 0x1a5b1e7438>"
      ]
     },
     "execution_count": 59,
     "metadata": {},
     "output_type": "execute_result"
    },
    {
     "name": "stdout",
     "output_type": "stream",
     "text": [
      "0.5253853127833182\n",
      "0.9991379310344828\n",
      "0.5304659498207885\n",
      "0.5243672196667525\n"
     ]
    },
    {
     "data": {
      "text/plain": [
       "<Figure size 432x288 with 0 Axes>"
      ]
     },
     "metadata": {},
     "output_type": "display_data"
    },
    {
     "data": {
      "image/png": "[encoded data removed]",
      "text/plain": [
       "<Figure size 720x720 with 1 Axes>"
      ]
     },
     "metadata": {
      "needs_background": "light"
     },
     "output_type": "display_data"
    }
   ],
   "source": [
    "X=data6.drop(['trend','trade_month'],axis=1).values\n",
    "y=data6.trend.values\n",
    "Xtrain_set, Xtest, ytrain_set, ytest = train_test_split(X, y, test_size=0.2, random_state=24)\n",
    "\n",
    "new_Xtrain_set = np.reshape( Xtrain_set, (Xtrain_set.shape[0], Xtrain_set.shape[1], 1) )#Lstm调用库函数必须要进行维度转换\n",
    "\n",
    "model = models.Sequential()\n",
    "model.add( LSTM( 40, input_shape=(new_Xtrain_set.shape[1], new_Xtrain_set.shape[2]), return_sequences=True) )\n",
    "model.add( LSTM( 5, return_sequences=False ) )\n",
    "model.add( layers.Dropout( 0.2 ) )\n",
    "model.add( layers.Dense( 1 ) )\n",
    "model.compile( loss=\"mse\", optimizer=\"rmsprop\" )\n",
    "model.fit( new_Xtrain_set, ytrain_set, epochs=20, batch_size=1)#参数依次为特征，标签，训练循环次数，小批量（一次放入训练的数据个数）\n",
    "\n",
    "new_Xtest = np.reshape( Xtest, (Xtest.shape[0], Xtest.shape[1], 1) )#维度转换\n",
    "pred_test_prob = model.predict(new_Xtest)\n",
    "pred_test=list(map(f,pred_test_prob))\n",
    "\n",
    "print(precision_score(ytest, pred_test))\n",
    "print(recall_score(ytest, pred_test))\n",
    "print(accuracy_score(ytest, pred_test))\n",
    "acu_curve(ytest, pred_test_prob)"
   ]
  },
  {
   "cell_type": "code",
   "execution_count": 69,
   "metadata": {},
   "outputs": [
    {
     "data": {
      "text/plain": [
       "Index(['open', 'high', 'low', 'pre_close', 'vol', 'amount', 'trend',\n",
       "       'China_confirmed_num', 'China_confirmed_num_now', 'China_cured_num',\n",
       "       'China_dead_num', 'trade_month', 'ppi_yoy', 'ppi_mom', 'ppi_accu',\n",
       "       'nt_val', 'nt_yoy', 'nt_mom', 'town_val', 'town_yoy', 'town_mom',\n",
       "       'cnt_val', 'cnt_yoy', 'cnt_mom'],\n",
       "      dtype='object')"
      ]
     },
     "execution_count": 69,
     "metadata": {},
     "output_type": "execute_result"
    }
   ],
   "source": [
    "data6.columns"
   ]
  },
  {
   "cell_type": "code",
   "execution_count": 61,
   "metadata": {
    "scrolled": true
   },
   "outputs": [
    {
     "name": "stdout",
     "output_type": "stream",
     "text": [
      "Epoch 1/20\n",
      "21088/21088 [==============================] - 661s 31ms/step - loss: 0.2562\n",
      "Epoch 2/20\n",
      "21088/21088 [==============================] - 6498s 308ms/step - loss: 0.2509\n",
      "Epoch 3/20\n",
      "21088/21088 [==============================] - 497s 24ms/step - loss: 0.2507\n",
      "Epoch 4/20\n",
      "21088/21088 [==============================] - 553s 26ms/step - loss: 0.2507\n",
      "Epoch 5/20\n",
      "21088/21088 [==============================] - 625s 30ms/step - loss: 0.2509\n",
      "Epoch 6/20\n",
      "21088/21088 [==============================] - 843s 40ms/step - loss: 0.2502\n",
      "Epoch 7/20\n",
      "21088/21088 [==============================] - 528s 25ms/step - loss: 0.2503\n",
      "Epoch 8/20\n",
      "21088/21088 [==============================] - 518s 25ms/step - loss: 0.2501\n",
      "Epoch 9/20\n",
      "21088/21088 [==============================] - 647s 31ms/step - loss: 0.2502\n",
      "Epoch 10/20\n",
      "21088/21088 [==============================] - 618s 29ms/step - loss: 0.2503\n",
      "Epoch 11/20\n",
      "21088/21088 [==============================] - 607s 29ms/step - loss: 0.2502\n",
      "Epoch 12/20\n",
      "21088/21088 [==============================] - 533s 25ms/step - loss: 0.2502\n",
      "Epoch 13/20\n",
      "21088/21088 [==============================] - 814s 39ms/step - loss: 0.2503\n",
      "Epoch 14/20\n",
      "21088/21088 [==============================] - 699s 33ms/step - loss: 0.2503\n",
      "Epoch 15/20\n",
      "21088/21088 [==============================] - 764s 36ms/step - loss: 0.2503\n",
      "Epoch 16/20\n",
      "21088/21088 [==============================] - 803s 38ms/step - loss: 0.2503\n",
      "Epoch 17/20\n",
      "21088/21088 [==============================] - 859s 41ms/step - loss: 0.2503\n",
      "Epoch 18/20\n",
      "21088/21088 [==============================] - 559s 27ms/step - loss: 0.2503\n",
      "Epoch 19/20\n",
      "21088/21088 [==============================] - 535s 25ms/step - loss: 0.2502\n",
      "Epoch 20/20\n",
      "21088/21088 [==============================] - 519s 25ms/step - loss: 0.2502\n"
     ]
    },
    {
     "data": {
      "text/plain": [
       "<tensorflow.python.keras.callbacks.History at 0x1a594047f0>"
      ]
     },
     "execution_count": 61,
     "metadata": {},
     "output_type": "execute_result"
    },
    {
     "name": "stdout",
     "output_type": "stream",
     "text": [
      "0.4985776597762185\n",
      "1.0\n",
      "0.4985776597762185\n",
      "0.5\n"
     ]
    },
    {
     "data": {
      "text/plain": [
       "<Figure size 432x288 with 0 Axes>"
      ]
     },
     "metadata": {},
     "output_type": "display_data"
    },
    {
     "data": {
      "image/png": "[encoded data removed]",
      "text/plain": [
       "<Figure size 720x720 with 1 Axes>"
      ]
     },
     "metadata": {
      "needs_background": "light"
     },
     "output_type": "display_data"
    }
   ],
   "source": [
    "X=data7.drop(['trend','trade_month'],axis=1).values\n",
    "y=data7.trend.values\n",
    "Xtrain_set, Xtest, ytrain_set, ytest = train_test_split(X, y, test_size=0.2, random_state=24)\n",
    "\n",
    "new_Xtrain_set = np.reshape( Xtrain_set, (Xtrain_set.shape[0], Xtrain_set.shape[1], 1) )#Lstm调用库函数必须要进行维度转换\n",
    "\n",
    "model = models.Sequential()\n",
    "model.add( LSTM( 40, input_shape=(new_Xtrain_set.shape[1], new_Xtrain_set.shape[2]), return_sequences=True) )\n",
    "model.add( LSTM( 5, return_sequences=False ) )\n",
    "model.add( layers.Dropout( 0.2 ) )\n",
    "model.add( layers.Dense( 1 ) )\n",
    "model.compile( loss=\"mse\", optimizer=\"rmsprop\" )\n",
    "model.fit( new_Xtrain_set, ytrain_set, epochs=20, batch_size=1)#参数依次为特征，标签，训练循环次数，小批量（一次放入训练的数据个数）\n",
    "\n",
    "new_Xtest = np.reshape( Xtest, (Xtest.shape[0], Xtest.shape[1], 1) )#维度转换\n",
    "pred_test_prob = model.predict(new_Xtest)\n",
    "pred_test=list(map(f,pred_test_prob))\n",
    "\n",
    "print(precision_score(ytest, pred_test))\n",
    "print(recall_score(ytest, pred_test))\n",
    "print(accuracy_score(ytest, pred_test))\n",
    "acu_curve(ytest, pred_test_prob)"
   ]
  },
  {
   "cell_type": "code",
   "execution_count": 64,
   "metadata": {},
   "outputs": [
    {
     "data": {
      "text/plain": [
       "Index(['open', 'high', 'low', 'pre_close', 'vol', 'amount', 'trend',\n",
       "       'China_confirmed_num', 'China_confirmed_num_now', 'China_cured_num',\n",
       "       'China_dead_num', 'trade_month', 'ppi_yoy', 'ppi_mom', 'ppi_accu',\n",
       "       'nt_val', 'nt_yoy', 'nt_mom', 'town_val', 'town_yoy', 'town_mom',\n",
       "       'cnt_val', 'cnt_yoy', 'cnt_mom'],\n",
       "      dtype='object')"
      ]
     },
     "execution_count": 64,
     "metadata": {},
     "output_type": "execute_result"
    }
   ],
   "source": [
    "data6.columns"
   ]
  },
  {
   "cell_type": "code",
   "execution_count": 58,
   "metadata": {},
   "outputs": [
    {
     "data": {
      "text/html": [
       "<div>\n",
       "<style scoped>\n",
       "    .dataframe tbody tr th:only-of-type {\n",
       "        vertical-align: middle;\n",
       "    }\n",
       "\n",
       "    .dataframe tbody tr th {\n",
       "        vertical-align: top;\n",
       "    }\n",
       "\n",
       "    .dataframe thead th {\n",
       "        text-align: right;\n",
       "    }\n",
       "</style>\n",
       "<table border=\"1\" class=\"dataframe\">\n",
       "  <thead>\n",
       "    <tr style=\"text-align: right;\">\n",
       "      <th></th>\n",
       "      <th>trade_date</th>\n",
       "      <th>open</th>\n",
       "      <th>high</th>\n",
       "      <th>low</th>\n",
       "      <th>pre_close</th>\n",
       "      <th>vol</th>\n",
       "      <th>amount</th>\n",
       "      <th>trend</th>\n",
       "      <th>World_confirmed_num</th>\n",
       "      <th>World_confirmed_num_now</th>\n",
       "      <th>World_cured_num</th>\n",
       "      <th>World_dead_num</th>\n",
       "      <th>trade_month</th>\n",
       "    </tr>\n",
       "  </thead>\n",
       "  <tbody>\n",
       "    <tr>\n",
       "      <th>72968</th>\n",
       "      <td>20200421</td>\n",
       "      <td>7.18</td>\n",
       "      <td>7.19</td>\n",
       "      <td>7.01</td>\n",
       "      <td>7.22</td>\n",
       "      <td>506894.10</td>\n",
       "      <td>358867.861</td>\n",
       "      <td>0</td>\n",
       "      <td>2526003</td>\n",
       "      <td>1635639</td>\n",
       "      <td>714612</td>\n",
       "      <td>175752</td>\n",
       "      <td>202004</td>\n",
       "    </tr>\n",
       "    <tr>\n",
       "      <th>76380</th>\n",
       "      <td>20200420</td>\n",
       "      <td>32.55</td>\n",
       "      <td>32.98</td>\n",
       "      <td>32.10</td>\n",
       "      <td>32.80</td>\n",
       "      <td>20059.38</td>\n",
       "      <td>65360.072</td>\n",
       "      <td>0</td>\n",
       "      <td>2457413</td>\n",
       "      <td>1592500</td>\n",
       "      <td>693888</td>\n",
       "      <td>171025</td>\n",
       "      <td>202004</td>\n",
       "    </tr>\n",
       "    <tr>\n",
       "      <th>7369</th>\n",
       "      <td>20200617</td>\n",
       "      <td>13.27</td>\n",
       "      <td>13.54</td>\n",
       "      <td>12.90</td>\n",
       "      <td>13.35</td>\n",
       "      <td>87784.49</td>\n",
       "      <td>115572.363</td>\n",
       "      <td>0</td>\n",
       "      <td>8165437</td>\n",
       "      <td>3948674</td>\n",
       "      <td>3772788</td>\n",
       "      <td>443975</td>\n",
       "      <td>202006</td>\n",
       "    </tr>\n",
       "    <tr>\n",
       "      <th>88657</th>\n",
       "      <td>20200413</td>\n",
       "      <td>8.17</td>\n",
       "      <td>8.37</td>\n",
       "      <td>7.98</td>\n",
       "      <td>8.18</td>\n",
       "      <td>80532.04</td>\n",
       "      <td>65810.374</td>\n",
       "      <td>0</td>\n",
       "      <td>1856782</td>\n",
       "      <td>1251923</td>\n",
       "      <td>487331</td>\n",
       "      <td>117528</td>\n",
       "      <td>202004</td>\n",
       "    </tr>\n",
       "    <tr>\n",
       "      <th>34600</th>\n",
       "      <td>20200515</td>\n",
       "      <td>10.32</td>\n",
       "      <td>10.52</td>\n",
       "      <td>10.30</td>\n",
       "      <td>10.29</td>\n",
       "      <td>10153.03</td>\n",
       "      <td>10553.570</td>\n",
       "      <td>1</td>\n",
       "      <td>4442667</td>\n",
       "      <td>2562654</td>\n",
       "      <td>1576742</td>\n",
       "      <td>303271</td>\n",
       "      <td>202005</td>\n",
       "    </tr>\n",
       "  </tbody>\n",
       "</table>\n",
       "</div>"
      ],
      "text/plain": [
       "       trade_date   open   high    low  pre_close        vol      amount  \\\n",
       "72968    20200421   7.18   7.19   7.01       7.22  506894.10  358867.861   \n",
       "76380    20200420  32.55  32.98  32.10      32.80   20059.38   65360.072   \n",
       "7369     20200617  13.27  13.54  12.90      13.35   87784.49  115572.363   \n",
       "88657    20200413   8.17   8.37   7.98       8.18   80532.04   65810.374   \n",
       "34600    20200515  10.32  10.52  10.30      10.29   10153.03   10553.570   \n",
       "\n",
       "       trend  World_confirmed_num  World_confirmed_num_now  World_cured_num  \\\n",
       "72968      0              2526003                  1635639           714612   \n",
       "76380      0              2457413                  1592500           693888   \n",
       "7369       0              8165437                  3948674          3772788   \n",
       "88657      0              1856782                  1251923           487331   \n",
       "34600      1              4442667                  2562654          1576742   \n",
       "\n",
       "       World_dead_num  trade_month  \n",
       "72968          175752       202004  \n",
       "76380          171025       202004  \n",
       "7369           443975       202006  \n",
       "88657          117528       202004  \n",
       "34600          303271       202005  "
      ]
     },
     "execution_count": 58,
     "metadata": {},
     "output_type": "execute_result"
    }
   ],
   "source": [
    "data2.head()"
   ]
  },
  {
   "cell_type": "code",
   "execution_count": null,
   "metadata": {},
   "outputs": [],
   "source": []
  },
  {
   "cell_type": "code",
   "execution_count": null,
   "metadata": {},
   "outputs": [],
   "source": []
  },
  {
   "cell_type": "code",
   "execution_count": null,
   "metadata": {},
   "outputs": [],
   "source": []
  },
  {
   "cell_type": "code",
   "execution_count": 9,
   "metadata": {
    "scrolled": true
   },
   "outputs": [
    {
     "data": {
      "text/html": [
       "<div>\n",
       "<style scoped>\n",
       "    .dataframe tbody tr th:only-of-type {\n",
       "        vertical-align: middle;\n",
       "    }\n",
       "\n",
       "    .dataframe tbody tr th {\n",
       "        vertical-align: top;\n",
       "    }\n",
       "\n",
       "    .dataframe thead th {\n",
       "        text-align: right;\n",
       "    }\n",
       "</style>\n",
       "<table border=\"1\" class=\"dataframe\">\n",
       "  <thead>\n",
       "    <tr style=\"text-align: right;\">\n",
       "      <th></th>\n",
       "      <th>Month</th>\n",
       "      <th>Consumer Price Index</th>\n",
       "      <th>Consumer Price Index of Food, Tobacco and Alcohol</th>\n",
       "      <th>Consumer Price Index for Clothing</th>\n",
       "      <th>Consumer Price Index for Residential</th>\n",
       "      <th>Consumer Price Index for Daily Necessities</th>\n",
       "      <th>Consumer Price Index for Traffic and Communication</th>\n",
       "      <th>Consumer Price Index for Education culture and Entertainment</th>\n",
       "      <th>Consumer Price Index for Healthcare</th>\n",
       "      <th>Consumer Price Index for Other Service</th>\n",
       "    </tr>\n",
       "  </thead>\n",
       "  <tbody>\n",
       "    <tr>\n",
       "      <th>0</th>\n",
       "      <td>2021/7</td>\n",
       "      <td>1.0</td>\n",
       "      <td>-1.8</td>\n",
       "      <td>0.4</td>\n",
       "      <td>1.1</td>\n",
       "      <td>0.3</td>\n",
       "      <td>6.9</td>\n",
       "      <td>2.7</td>\n",
       "      <td>0.4</td>\n",
       "      <td>-1.3</td>\n",
       "    </tr>\n",
       "    <tr>\n",
       "      <th>1</th>\n",
       "      <td>2021/6</td>\n",
       "      <td>1.1</td>\n",
       "      <td>-0.4</td>\n",
       "      <td>0.4</td>\n",
       "      <td>0.9</td>\n",
       "      <td>0.3</td>\n",
       "      <td>5.8</td>\n",
       "      <td>1.5</td>\n",
       "      <td>0.3</td>\n",
       "      <td>-0.9</td>\n",
       "    </tr>\n",
       "    <tr>\n",
       "      <th>2</th>\n",
       "      <td>2021/5</td>\n",
       "      <td>1.3</td>\n",
       "      <td>0.8</td>\n",
       "      <td>0.4</td>\n",
       "      <td>0.7</td>\n",
       "      <td>0.4</td>\n",
       "      <td>5.5</td>\n",
       "      <td>1.5</td>\n",
       "      <td>0.2</td>\n",
       "      <td>-0.9</td>\n",
       "    </tr>\n",
       "    <tr>\n",
       "      <th>3</th>\n",
       "      <td>2021/4</td>\n",
       "      <td>0.9</td>\n",
       "      <td>0.1</td>\n",
       "      <td>0.2</td>\n",
       "      <td>0.4</td>\n",
       "      <td>0.4</td>\n",
       "      <td>4.9</td>\n",
       "      <td>1.3</td>\n",
       "      <td>0.1</td>\n",
       "      <td>-1.3</td>\n",
       "    </tr>\n",
       "    <tr>\n",
       "      <th>4</th>\n",
       "      <td>2021/3</td>\n",
       "      <td>0.4</td>\n",
       "      <td>0.1</td>\n",
       "      <td>0.1</td>\n",
       "      <td>0.2</td>\n",
       "      <td>0.0</td>\n",
       "      <td>2.7</td>\n",
       "      <td>0.4</td>\n",
       "      <td>0.2</td>\n",
       "      <td>-1.5</td>\n",
       "    </tr>\n",
       "    <tr>\n",
       "      <th>5</th>\n",
       "      <td>2021/2</td>\n",
       "      <td>-0.2</td>\n",
       "      <td>0.3</td>\n",
       "      <td>-0.5</td>\n",
       "      <td>-0.3</td>\n",
       "      <td>-0.2</td>\n",
       "      <td>-1.9</td>\n",
       "      <td>0.6</td>\n",
       "      <td>0.3</td>\n",
       "      <td>-0.8</td>\n",
       "    </tr>\n",
       "    <tr>\n",
       "      <th>6</th>\n",
       "      <td>2021/1</td>\n",
       "      <td>-0.3</td>\n",
       "      <td>1.4</td>\n",
       "      <td>-0.2</td>\n",
       "      <td>-0.4</td>\n",
       "      <td>0.0</td>\n",
       "      <td>-4.6</td>\n",
       "      <td>0.0</td>\n",
       "      <td>0.4</td>\n",
       "      <td>-0.9</td>\n",
       "    </tr>\n",
       "    <tr>\n",
       "      <th>7</th>\n",
       "      <td>2020/12</td>\n",
       "      <td>0.2</td>\n",
       "      <td>1.4</td>\n",
       "      <td>-0.1</td>\n",
       "      <td>-0.6</td>\n",
       "      <td>0.0</td>\n",
       "      <td>-3.1</td>\n",
       "      <td>0.9</td>\n",
       "      <td>1.3</td>\n",
       "      <td>2.2</td>\n",
       "    </tr>\n",
       "    <tr>\n",
       "      <th>8</th>\n",
       "      <td>2020/11</td>\n",
       "      <td>-0.5</td>\n",
       "      <td>-0.7</td>\n",
       "      <td>-0.3</td>\n",
       "      <td>-0.6</td>\n",
       "      <td>0.0</td>\n",
       "      <td>-3.9</td>\n",
       "      <td>1.0</td>\n",
       "      <td>1.5</td>\n",
       "      <td>2.5</td>\n",
       "    </tr>\n",
       "    <tr>\n",
       "      <th>9</th>\n",
       "      <td>2020/10</td>\n",
       "      <td>0.5</td>\n",
       "      <td>2.4</td>\n",
       "      <td>-0.3</td>\n",
       "      <td>-0.7</td>\n",
       "      <td>-0.1</td>\n",
       "      <td>-3.9</td>\n",
       "      <td>1.1</td>\n",
       "      <td>1.5</td>\n",
       "      <td>2.4</td>\n",
       "    </tr>\n",
       "    <tr>\n",
       "      <th>10</th>\n",
       "      <td>2020/9</td>\n",
       "      <td>1.7</td>\n",
       "      <td>6.4</td>\n",
       "      <td>-0.4</td>\n",
       "      <td>-0.8</td>\n",
       "      <td>-0.1</td>\n",
       "      <td>-3.6</td>\n",
       "      <td>0.7</td>\n",
       "      <td>1.5</td>\n",
       "      <td>4.3</td>\n",
       "    </tr>\n",
       "    <tr>\n",
       "      <th>11</th>\n",
       "      <td>2020/8</td>\n",
       "      <td>2.4</td>\n",
       "      <td>8.8</td>\n",
       "      <td>-0.5</td>\n",
       "      <td>-0.7</td>\n",
       "      <td>-0.1</td>\n",
       "      <td>-3.9</td>\n",
       "      <td>0.0</td>\n",
       "      <td>1.5</td>\n",
       "      <td>6.1</td>\n",
       "    </tr>\n",
       "    <tr>\n",
       "      <th>12</th>\n",
       "      <td>2020/7</td>\n",
       "      <td>2.7</td>\n",
       "      <td>10.2</td>\n",
       "      <td>-0.5</td>\n",
       "      <td>-0.7</td>\n",
       "      <td>-0.1</td>\n",
       "      <td>-4.4</td>\n",
       "      <td>0.3</td>\n",
       "      <td>1.6</td>\n",
       "      <td>5.1</td>\n",
       "    </tr>\n",
       "    <tr>\n",
       "      <th>13</th>\n",
       "      <td>2020/6</td>\n",
       "      <td>2.5</td>\n",
       "      <td>8.8</td>\n",
       "      <td>-0.4</td>\n",
       "      <td>-0.6</td>\n",
       "      <td>0.0</td>\n",
       "      <td>-4.6</td>\n",
       "      <td>1.9</td>\n",
       "      <td>1.9</td>\n",
       "      <td>5.1</td>\n",
       "    </tr>\n",
       "    <tr>\n",
       "      <th>14</th>\n",
       "      <td>2020/5</td>\n",
       "      <td>2.4</td>\n",
       "      <td>8.5</td>\n",
       "      <td>-0.4</td>\n",
       "      <td>-0.5</td>\n",
       "      <td>0.1</td>\n",
       "      <td>-5.1</td>\n",
       "      <td>2.2</td>\n",
       "      <td>2.1</td>\n",
       "      <td>5.3</td>\n",
       "    </tr>\n",
       "    <tr>\n",
       "      <th>15</th>\n",
       "      <td>2020/4</td>\n",
       "      <td>3.3</td>\n",
       "      <td>11.3</td>\n",
       "      <td>-0.4</td>\n",
       "      <td>-0.3</td>\n",
       "      <td>0.1</td>\n",
       "      <td>-4.9</td>\n",
       "      <td>2.0</td>\n",
       "      <td>2.2</td>\n",
       "      <td>4.8</td>\n",
       "    </tr>\n",
       "    <tr>\n",
       "      <th>16</th>\n",
       "      <td>2020/3</td>\n",
       "      <td>4.3</td>\n",
       "      <td>13.6</td>\n",
       "      <td>-0.3</td>\n",
       "      <td>-0.1</td>\n",
       "      <td>0.3</td>\n",
       "      <td>-3.8</td>\n",
       "      <td>2.5</td>\n",
       "      <td>2.2</td>\n",
       "      <td>5.3</td>\n",
       "    </tr>\n",
       "    <tr>\n",
       "      <th>17</th>\n",
       "      <td>2020/2</td>\n",
       "      <td>5.2</td>\n",
       "      <td>16.0</td>\n",
       "      <td>0.5</td>\n",
       "      <td>0.3</td>\n",
       "      <td>0.1</td>\n",
       "      <td>-1.6</td>\n",
       "      <td>1.0</td>\n",
       "      <td>2.2</td>\n",
       "      <td>4.4</td>\n",
       "    </tr>\n",
       "    <tr>\n",
       "      <th>18</th>\n",
       "      <td>2020/1</td>\n",
       "      <td>5.4</td>\n",
       "      <td>15.2</td>\n",
       "      <td>0.6</td>\n",
       "      <td>0.5</td>\n",
       "      <td>0.2</td>\n",
       "      <td>0.9</td>\n",
       "      <td>2.2</td>\n",
       "      <td>2.3</td>\n",
       "      <td>4.8</td>\n",
       "    </tr>\n",
       "    <tr>\n",
       "      <th>19</th>\n",
       "      <td>2019/12</td>\n",
       "      <td>4.5</td>\n",
       "      <td>12.9</td>\n",
       "      <td>0.8</td>\n",
       "      <td>0.5</td>\n",
       "      <td>0.4</td>\n",
       "      <td>-0.7</td>\n",
       "      <td>1.8</td>\n",
       "      <td>2.1</td>\n",
       "      <td>4.4</td>\n",
       "    </tr>\n",
       "    <tr>\n",
       "      <th>20</th>\n",
       "      <td>2019/11</td>\n",
       "      <td>4.5</td>\n",
       "      <td>13.9</td>\n",
       "      <td>1.1</td>\n",
       "      <td>0.4</td>\n",
       "      <td>0.4</td>\n",
       "      <td>-2.8</td>\n",
       "      <td>1.7</td>\n",
       "      <td>2.0</td>\n",
       "      <td>4.5</td>\n",
       "    </tr>\n",
       "    <tr>\n",
       "      <th>21</th>\n",
       "      <td>2019/10</td>\n",
       "      <td>3.8</td>\n",
       "      <td>11.4</td>\n",
       "      <td>1.2</td>\n",
       "      <td>0.5</td>\n",
       "      <td>0.6</td>\n",
       "      <td>-3.5</td>\n",
       "      <td>1.9</td>\n",
       "      <td>2.1</td>\n",
       "      <td>5.5</td>\n",
       "    </tr>\n",
       "    <tr>\n",
       "      <th>22</th>\n",
       "      <td>2019/9</td>\n",
       "      <td>3.0</td>\n",
       "      <td>8.4</td>\n",
       "      <td>1.6</td>\n",
       "      <td>0.7</td>\n",
       "      <td>0.6</td>\n",
       "      <td>-2.9</td>\n",
       "      <td>1.7</td>\n",
       "      <td>2.2</td>\n",
       "      <td>5.8</td>\n",
       "    </tr>\n",
       "  </tbody>\n",
       "</table>\n",
       "</div>"
      ],
      "text/plain": [
       "      Month  Consumer Price Index  \\\n",
       "0    2021/7                   1.0   \n",
       "1    2021/6                   1.1   \n",
       "2    2021/5                   1.3   \n",
       "3    2021/4                   0.9   \n",
       "4    2021/3                   0.4   \n",
       "5    2021/2                  -0.2   \n",
       "6    2021/1                  -0.3   \n",
       "7   2020/12                   0.2   \n",
       "8   2020/11                  -0.5   \n",
       "9   2020/10                   0.5   \n",
       "10   2020/9                   1.7   \n",
       "11   2020/8                   2.4   \n",
       "12   2020/7                   2.7   \n",
       "13   2020/6                   2.5   \n",
       "14   2020/5                   2.4   \n",
       "15   2020/4                   3.3   \n",
       "16   2020/3                   4.3   \n",
       "17   2020/2                   5.2   \n",
       "18   2020/1                   5.4   \n",
       "19  2019/12                   4.5   \n",
       "20  2019/11                   4.5   \n",
       "21  2019/10                   3.8   \n",
       "22   2019/9                   3.0   \n",
       "\n",
       "    Consumer Price Index of Food, Tobacco and Alcohol  \\\n",
       "0                                                -1.8   \n",
       "1                                                -0.4   \n",
       "2                                                 0.8   \n",
       "3                                                 0.1   \n",
       "4                                                 0.1   \n",
       "5                                                 0.3   \n",
       "6                                                 1.4   \n",
       "7                                                 1.4   \n",
       "8                                                -0.7   \n",
       "9                                                 2.4   \n",
       "10                                                6.4   \n",
       "11                                                8.8   \n",
       "12                                               10.2   \n",
       "13                                                8.8   \n",
       "14                                                8.5   \n",
       "15                                               11.3   \n",
       "16                                               13.6   \n",
       "17                                               16.0   \n",
       "18                                               15.2   \n",
       "19                                               12.9   \n",
       "20                                               13.9   \n",
       "21                                               11.4   \n",
       "22                                                8.4   \n",
       "\n",
       "    Consumer Price Index for Clothing  Consumer Price Index for Residential  \\\n",
       "0                                 0.4                                   1.1   \n",
       "1                                 0.4                                   0.9   \n",
       "2                                 0.4                                   0.7   \n",
       "3                                 0.2                                   0.4   \n",
       "4                                 0.1                                   0.2   \n",
       "5                                -0.5                                  -0.3   \n",
       "6                                -0.2                                  -0.4   \n",
       "7                                -0.1                                  -0.6   \n",
       "8                                -0.3                                  -0.6   \n",
       "9                                -0.3                                  -0.7   \n",
       "10                               -0.4                                  -0.8   \n",
       "11                               -0.5                                  -0.7   \n",
       "12                               -0.5                                  -0.7   \n",
       "13                               -0.4                                  -0.6   \n",
       "14                               -0.4                                  -0.5   \n",
       "15                               -0.4                                  -0.3   \n",
       "16                               -0.3                                  -0.1   \n",
       "17                                0.5                                   0.3   \n",
       "18                                0.6                                   0.5   \n",
       "19                                0.8                                   0.5   \n",
       "20                                1.1                                   0.4   \n",
       "21                                1.2                                   0.5   \n",
       "22                                1.6                                   0.7   \n",
       "\n",
       "    Consumer Price Index for Daily Necessities  \\\n",
       "0                                          0.3   \n",
       "1                                          0.3   \n",
       "2                                          0.4   \n",
       "3                                          0.4   \n",
       "4                                          0.0   \n",
       "5                                         -0.2   \n",
       "6                                          0.0   \n",
       "7                                          0.0   \n",
       "8                                          0.0   \n",
       "9                                         -0.1   \n",
       "10                                        -0.1   \n",
       "11                                        -0.1   \n",
       "12                                        -0.1   \n",
       "13                                         0.0   \n",
       "14                                         0.1   \n",
       "15                                         0.1   \n",
       "16                                         0.3   \n",
       "17                                         0.1   \n",
       "18                                         0.2   \n",
       "19                                         0.4   \n",
       "20                                         0.4   \n",
       "21                                         0.6   \n",
       "22                                         0.6   \n",
       "\n",
       "    Consumer Price Index for Traffic and Communication  \\\n",
       "0                                                 6.9    \n",
       "1                                                 5.8    \n",
       "2                                                 5.5    \n",
       "3                                                 4.9    \n",
       "4                                                 2.7    \n",
       "5                                                -1.9    \n",
       "6                                                -4.6    \n",
       "7                                                -3.1    \n",
       "8                                                -3.9    \n",
       "9                                                -3.9    \n",
       "10                                               -3.6    \n",
       "11                                               -3.9    \n",
       "12                                               -4.4    \n",
       "13                                               -4.6    \n",
       "14                                               -5.1    \n",
       "15                                               -4.9    \n",
       "16                                               -3.8    \n",
       "17                                               -1.6    \n",
       "18                                                0.9    \n",
       "19                                               -0.7    \n",
       "20                                               -2.8    \n",
       "21                                               -3.5    \n",
       "22                                               -2.9    \n",
       "\n",
       "    Consumer Price Index for Education culture and Entertainment  \\\n",
       "0                                                 2.7              \n",
       "1                                                 1.5              \n",
       "2                                                 1.5              \n",
       "3                                                 1.3              \n",
       "4                                                 0.4              \n",
       "5                                                 0.6              \n",
       "6                                                 0.0              \n",
       "7                                                 0.9              \n",
       "8                                                 1.0              \n",
       "9                                                 1.1              \n",
       "10                                                0.7              \n",
       "11                                                0.0              \n",
       "12                                                0.3              \n",
       "13                                                1.9              \n",
       "14                                                2.2              \n",
       "15                                                2.0              \n",
       "16                                                2.5              \n",
       "17                                                1.0              \n",
       "18                                                2.2              \n",
       "19                                                1.8              \n",
       "20                                                1.7              \n",
       "21                                                1.9              \n",
       "22                                                1.7              \n",
       "\n",
       "    Consumer Price Index for Healthcare  \\\n",
       "0                                   0.4   \n",
       "1                                   0.3   \n",
       "2                                   0.2   \n",
       "3                                   0.1   \n",
       "4                                   0.2   \n",
       "5                                   0.3   \n",
       "6                                   0.4   \n",
       "7                                   1.3   \n",
       "8                                   1.5   \n",
       "9                                   1.5   \n",
       "10                                  1.5   \n",
       "11                                  1.5   \n",
       "12                                  1.6   \n",
       "13                                  1.9   \n",
       "14                                  2.1   \n",
       "15                                  2.2   \n",
       "16                                  2.2   \n",
       "17                                  2.2   \n",
       "18                                  2.3   \n",
       "19                                  2.1   \n",
       "20                                  2.0   \n",
       "21                                  2.1   \n",
       "22                                  2.2   \n",
       "\n",
       "    Consumer Price Index for Other Service  \n",
       "0                                     -1.3  \n",
       "1                                     -0.9  \n",
       "2                                     -0.9  \n",
       "3                                     -1.3  \n",
       "4                                     -1.5  \n",
       "5                                     -0.8  \n",
       "6                                     -0.9  \n",
       "7                                      2.2  \n",
       "8                                      2.5  \n",
       "9                                      2.4  \n",
       "10                                     4.3  \n",
       "11                                     6.1  \n",
       "12                                     5.1  \n",
       "13                                     5.1  \n",
       "14                                     5.3  \n",
       "15                                     4.8  \n",
       "16                                     5.3  \n",
       "17                                     4.4  \n",
       "18                                     4.8  \n",
       "19                                     4.4  \n",
       "20                                     4.5  \n",
       "21                                     5.5  \n",
       "22                                     5.8  "
      ]
     },
     "execution_count": 9,
     "metadata": {},
     "output_type": "execute_result"
    }
   ],
   "source": [
    "df = pd.read_excel('with last year.xlsx')\n",
    "df"
   ]
  },
  {
   "cell_type": "code",
   "execution_count": 11,
   "metadata": {
    "collapsed": true
   },
   "outputs": [
    {
     "data": {
      "text/plain": [
       "['2021/7',\n",
       " '2021/6',\n",
       " '2021/5',\n",
       " '2021/4',\n",
       " '2021/3',\n",
       " '2021/2',\n",
       " '2021/1',\n",
       " '2020/12',\n",
       " '2020/11',\n",
       " '2020/10',\n",
       " '2020/9',\n",
       " '2020/8',\n",
       " '2020/7',\n",
       " '2020/6',\n",
       " '2020/5',\n",
       " '2020/4',\n",
       " '2020/3',\n",
       " '2020/2',\n",
       " '2020/1',\n",
       " '2019/12',\n",
       " '2019/11',\n",
       " '2019/10',\n",
       " '2019/9']"
      ]
     },
     "execution_count": 11,
     "metadata": {},
     "output_type": "execute_result"
    }
   ],
   "source": [
    "names=list(df.Month)\n",
    "names"
   ]
  },
  {
   "cell_type": "code",
   "execution_count": 24,
   "metadata": {
    "scrolled": true
   },
   "outputs": [
    {
     "data": {
      "text/plain": [
       "<BarContainer object of 23 artists>"
      ]
     },
     "execution_count": 24,
     "metadata": {},
     "output_type": "execute_result"
    },
    {
     "data": {
      "text/plain": [
       "([<matplotlib.axis.XTick at 0x125eeae10>,\n",
       "  <matplotlib.axis.XTick at 0x125eea978>,\n",
       "  <matplotlib.axis.XTick at 0x125ff96d8>,\n",
       "  <matplotlib.axis.XTick at 0x125f08898>,\n",
       "  <matplotlib.axis.XTick at 0x125f089b0>,\n",
       "  <matplotlib.axis.XTick at 0x125f15518>,\n",
       "  <matplotlib.axis.XTick at 0x125f15630>,\n",
       "  <matplotlib.axis.XTick at 0x125f15668>,\n",
       "  <matplotlib.axis.XTick at 0x125f085f8>,\n",
       "  <matplotlib.axis.XTick at 0x125f1f518>,\n",
       "  <matplotlib.axis.XTick at 0x125f1f630>,\n",
       "  <matplotlib.axis.XTick at 0x125f29198>,\n",
       "  <matplotlib.axis.XTick at 0x125f292b0>,\n",
       "  <matplotlib.axis.XTick at 0x125f298d0>,\n",
       "  <matplotlib.axis.XTick at 0x125f29ef0>,\n",
       "  <matplotlib.axis.XTick at 0x125f1f780>,\n",
       "  <matplotlib.axis.XTick at 0x125f31278>,\n",
       "  <matplotlib.axis.XTick at 0x125f31390>,\n",
       "  <matplotlib.axis.XTick at 0x125f319b0>,\n",
       "  <matplotlib.axis.XTick at 0x126056518>,\n",
       "  <matplotlib.axis.XTick at 0x126056630>,\n",
       "  <matplotlib.axis.XTick at 0x126056c50>,\n",
       "  <matplotlib.axis.XTick at 0x125f31588>],\n",
       " [Text(0, 0, '2021/7'),\n",
       "  Text(1, 0, '2021/6'),\n",
       "  Text(2, 0, '2021/5'),\n",
       "  Text(3, 0, '2021/4'),\n",
       "  Text(4, 0, '2021/3'),\n",
       "  Text(5, 0, '2021/2'),\n",
       "  Text(6, 0, '2021/1'),\n",
       "  Text(7, 0, '2020/12'),\n",
       "  Text(8, 0, '2020/11'),\n",
       "  Text(9, 0, '2020/10'),\n",
       "  Text(10, 0, '2020/9'),\n",
       "  Text(11, 0, '2020/8'),\n",
       "  Text(12, 0, '2020/7'),\n",
       "  Text(13, 0, '2020/6'),\n",
       "  Text(14, 0, '2020/5'),\n",
       "  Text(15, 0, '2020/4'),\n",
       "  Text(16, 0, '2020/3'),\n",
       "  Text(17, 0, '2020/2'),\n",
       "  Text(18, 0, '2020/1'),\n",
       "  Text(19, 0, '2019/12'),\n",
       "  Text(20, 0, '2019/11'),\n",
       "  Text(21, 0, '2019/10'),\n",
       "  Text(22, 0, '2019/9')])"
      ]
     },
     "execution_count": 24,
     "metadata": {},
     "output_type": "execute_result"
    },
    {
     "data": {
      "text/plain": [
       "Text(0.5, 1.0, 'Consumer Price Index')"
      ]
     },
     "execution_count": 24,
     "metadata": {},
     "output_type": "execute_result"
    },
    {
     "data": {
      "image/png": "[encoded data removed]",
      "text/plain": [
       "<Figure size 432x288 with 1 Axes>"
      ]
     },
     "metadata": {
      "needs_background": "light"
     },
     "output_type": "display_data"
    }
   ],
   "source": [
    "x = range(len(names))\n",
    "y = list(df['Consumer Price Index'])\n",
    "plt.bar(x, y, alpha=0.6)\n",
    "plt.xticks(x, names, rotation=45)\n",
    "plt.title('Consumer Price Index')\n",
    "#plt.margins(0.08)"
   ]
  },
  {
   "cell_type": "code",
   "execution_count": 25,
   "metadata": {
    "scrolled": true
   },
   "outputs": [
    {
     "data": {
      "text/plain": [
       "<BarContainer object of 23 artists>"
      ]
     },
     "execution_count": 25,
     "metadata": {},
     "output_type": "execute_result"
    },
    {
     "data": {
      "text/plain": [
       "([<matplotlib.axis.XTick at 0x12611a198>,\n",
       "  <matplotlib.axis.XTick at 0x126111c88>,\n",
       "  <matplotlib.axis.XTick at 0x125f15c88>,\n",
       "  <matplotlib.axis.XTick at 0x1261d4be0>,\n",
       "  <matplotlib.axis.XTick at 0x1261e4240>,\n",
       "  <matplotlib.axis.XTick at 0x1261e4358>,\n",
       "  <matplotlib.axis.XTick at 0x1261e4978>,\n",
       "  <matplotlib.axis.XTick at 0x1261ec4e0>,\n",
       "  <matplotlib.axis.XTick at 0x1261e4a90>,\n",
       "  <matplotlib.axis.XTick at 0x1261ec470>,\n",
       "  <matplotlib.axis.XTick at 0x1261ec208>,\n",
       "  <matplotlib.axis.XTick at 0x1260982b0>,\n",
       "  <matplotlib.axis.XTick at 0x1260983c8>,\n",
       "  <matplotlib.axis.XTick at 0x1260989e8>,\n",
       "  <matplotlib.axis.XTick at 0x1260a2550>,\n",
       "  <matplotlib.axis.XTick at 0x126098b00>,\n",
       "  <matplotlib.axis.XTick at 0x126098438>,\n",
       "  <matplotlib.axis.XTick at 0x1260a29b0>,\n",
       "  <matplotlib.axis.XTick at 0x1260a2ac8>,\n",
       "  <matplotlib.axis.XTick at 0x1260ad128>,\n",
       "  <matplotlib.axis.XTick at 0x1260ad748>,\n",
       "  <matplotlib.axis.XTick at 0x1260b42b0>,\n",
       "  <matplotlib.axis.XTick at 0x1260addd8>],\n",
       " [Text(0, 0, '2021/7'),\n",
       "  Text(1, 0, '2021/6'),\n",
       "  Text(2, 0, '2021/5'),\n",
       "  Text(3, 0, '2021/4'),\n",
       "  Text(4, 0, '2021/3'),\n",
       "  Text(5, 0, '2021/2'),\n",
       "  Text(6, 0, '2021/1'),\n",
       "  Text(7, 0, '2020/12'),\n",
       "  Text(8, 0, '2020/11'),\n",
       "  Text(9, 0, '2020/10'),\n",
       "  Text(10, 0, '2020/9'),\n",
       "  Text(11, 0, '2020/8'),\n",
       "  Text(12, 0, '2020/7'),\n",
       "  Text(13, 0, '2020/6'),\n",
       "  Text(14, 0, '2020/5'),\n",
       "  Text(15, 0, '2020/4'),\n",
       "  Text(16, 0, '2020/3'),\n",
       "  Text(17, 0, '2020/2'),\n",
       "  Text(18, 0, '2020/1'),\n",
       "  Text(19, 0, '2019/12'),\n",
       "  Text(20, 0, '2019/11'),\n",
       "  Text(21, 0, '2019/10'),\n",
       "  Text(22, 0, '2019/9')])"
      ]
     },
     "execution_count": 25,
     "metadata": {},
     "output_type": "execute_result"
    },
    {
     "data": {
      "text/plain": [
       "Text(0.5, 1.0, 'Consumer Price Index of Food, Tobacco and Alcohol')"
      ]
     },
     "execution_count": 25,
     "metadata": {},
     "output_type": "execute_result"
    },
    {
     "data": {
      "image/png": "[encoded data removed]",
      "text/plain": [
       "<Figure size 432x288 with 1 Axes>"
      ]
     },
     "metadata": {
      "needs_background": "light"
     },
     "output_type": "display_data"
    }
   ],
   "source": [
    "x = range(len(names))\n",
    "y = list(df['Consumer Price Index of Food, Tobacco and Alcohol'])\n",
    "plt.bar(x, y, alpha=0.6)\n",
    "plt.xticks(x, names, rotation=45)\n",
    "plt.title('Consumer Price Index of Food, Tobacco and Alcohol')"
   ]
  },
  {
   "cell_type": "code",
   "execution_count": 26,
   "metadata": {
    "scrolled": true
   },
   "outputs": [
    {
     "data": {
      "text/plain": [
       "<BarContainer object of 23 artists>"
      ]
     },
     "execution_count": 26,
     "metadata": {},
     "output_type": "execute_result"
    },
    {
     "data": {
      "text/plain": [
       "([<matplotlib.axis.XTick at 0x1262de2e8>,\n",
       "  <matplotlib.axis.XTick at 0x1262dae10>,\n",
       "  <matplotlib.axis.XTick at 0x126085358>,\n",
       "  <matplotlib.axis.XTick at 0x126238cc0>,\n",
       "  <matplotlib.axis.XTick at 0x12624a320>,\n",
       "  <matplotlib.axis.XTick at 0x12624a438>,\n",
       "  <matplotlib.axis.XTick at 0x12624aa58>,\n",
       "  <matplotlib.axis.XTick at 0x1262520b8>,\n",
       "  <matplotlib.axis.XTick at 0x12624aa90>,\n",
       "  <matplotlib.axis.XTick at 0x1262524e0>,\n",
       "  <matplotlib.axis.XTick at 0x126252208>,\n",
       "  <matplotlib.axis.XTick at 0x12625d390>,\n",
       "  <matplotlib.axis.XTick at 0x12625d4a8>,\n",
       "  <matplotlib.axis.XTick at 0x12625dac8>,\n",
       "  <matplotlib.axis.XTick at 0x126267128>,\n",
       "  <matplotlib.axis.XTick at 0x12625dc18>,\n",
       "  <matplotlib.axis.XTick at 0x12625d320>,\n",
       "  <matplotlib.axis.XTick at 0x126267a20>,\n",
       "  <matplotlib.axis.XTick at 0x126272080>,\n",
       "  <matplotlib.axis.XTick at 0x126272198>,\n",
       "  <matplotlib.axis.XTick at 0x1262727b8>,\n",
       "  <matplotlib.axis.XTick at 0x1263db320>,\n",
       "  <matplotlib.axis.XTick at 0x126272c88>],\n",
       " [Text(0, 0, '2021/7'),\n",
       "  Text(1, 0, '2021/6'),\n",
       "  Text(2, 0, '2021/5'),\n",
       "  Text(3, 0, '2021/4'),\n",
       "  Text(4, 0, '2021/3'),\n",
       "  Text(5, 0, '2021/2'),\n",
       "  Text(6, 0, '2021/1'),\n",
       "  Text(7, 0, '2020/12'),\n",
       "  Text(8, 0, '2020/11'),\n",
       "  Text(9, 0, '2020/10'),\n",
       "  Text(10, 0, '2020/9'),\n",
       "  Text(11, 0, '2020/8'),\n",
       "  Text(12, 0, '2020/7'),\n",
       "  Text(13, 0, '2020/6'),\n",
       "  Text(14, 0, '2020/5'),\n",
       "  Text(15, 0, '2020/4'),\n",
       "  Text(16, 0, '2020/3'),\n",
       "  Text(17, 0, '2020/2'),\n",
       "  Text(18, 0, '2020/1'),\n",
       "  Text(19, 0, '2019/12'),\n",
       "  Text(20, 0, '2019/11'),\n",
       "  Text(21, 0, '2019/10'),\n",
       "  Text(22, 0, '2019/9')])"
      ]
     },
     "execution_count": 26,
     "metadata": {},
     "output_type": "execute_result"
    },
    {
     "data": {
      "text/plain": [
       "Text(0.5, 1.0, 'Consumer Price Index for Clothing')"
      ]
     },
     "execution_count": 26,
     "metadata": {},
     "output_type": "execute_result"
    },
    {
     "data": {
      "image/png": "[encoded data removed]",
      "text/plain": [
       "<Figure size 432x288 with 1 Axes>"
      ]
     },
     "metadata": {
      "needs_background": "light"
     },
     "output_type": "display_data"
    }
   ],
   "source": [
    "x = range(len(names))\n",
    "y = list(df['Consumer Price Index for Clothing'])\n",
    "plt.bar(x, y, alpha=0.6)\n",
    "plt.xticks(x, names, rotation=45)\n",
    "plt.title('Consumer Price Index for Clothing')"
   ]
  },
  {
   "cell_type": "code",
   "execution_count": 27,
   "metadata": {
    "scrolled": true
   },
   "outputs": [
    {
     "data": {
      "text/plain": [
       "<BarContainer object of 23 artists>"
      ]
     },
     "execution_count": 27,
     "metadata": {},
     "output_type": "execute_result"
    },
    {
     "data": {
      "text/plain": [
       "([<matplotlib.axis.XTick at 0x126503160>,\n",
       "  <matplotlib.axis.XTick at 0x126415c88>,\n",
       "  <matplotlib.axis.XTick at 0x1264158d0>,\n",
       "  <matplotlib.axis.XTick at 0x126558be0>,\n",
       "  <matplotlib.axis.XTick at 0x126566240>,\n",
       "  <matplotlib.axis.XTick at 0x126566358>,\n",
       "  <matplotlib.axis.XTick at 0x126566978>,\n",
       "  <matplotlib.axis.XTick at 0x12656c4e0>,\n",
       "  <matplotlib.axis.XTick at 0x1265669e8>,\n",
       "  <matplotlib.axis.XTick at 0x12656c438>,\n",
       "  <matplotlib.axis.XTick at 0x12656c048>,\n",
       "  <matplotlib.axis.XTick at 0x1265792b0>,\n",
       "  <matplotlib.axis.XTick at 0x1265793c8>,\n",
       "  <matplotlib.axis.XTick at 0x1265799e8>,\n",
       "  <matplotlib.axis.XTick at 0x12641d550>,\n",
       "  <matplotlib.axis.XTick at 0x126579860>,\n",
       "  <matplotlib.axis.XTick at 0x126558e10>,\n",
       "  <matplotlib.axis.XTick at 0x12641d940>,\n",
       "  <matplotlib.axis.XTick at 0x12641da58>,\n",
       "  <matplotlib.axis.XTick at 0x12642a080>,\n",
       "  <matplotlib.axis.XTick at 0x12642a6d8>,\n",
       "  <matplotlib.axis.XTick at 0x126431240>,\n",
       "  <matplotlib.axis.XTick at 0x12642ab00>],\n",
       " [Text(0, 0, '2021/7'),\n",
       "  Text(1, 0, '2021/6'),\n",
       "  Text(2, 0, '2021/5'),\n",
       "  Text(3, 0, '2021/4'),\n",
       "  Text(4, 0, '2021/3'),\n",
       "  Text(5, 0, '2021/2'),\n",
       "  Text(6, 0, '2021/1'),\n",
       "  Text(7, 0, '2020/12'),\n",
       "  Text(8, 0, '2020/11'),\n",
       "  Text(9, 0, '2020/10'),\n",
       "  Text(10, 0, '2020/9'),\n",
       "  Text(11, 0, '2020/8'),\n",
       "  Text(12, 0, '2020/7'),\n",
       "  Text(13, 0, '2020/6'),\n",
       "  Text(14, 0, '2020/5'),\n",
       "  Text(15, 0, '2020/4'),\n",
       "  Text(16, 0, '2020/3'),\n",
       "  Text(17, 0, '2020/2'),\n",
       "  Text(18, 0, '2020/1'),\n",
       "  Text(19, 0, '2019/12'),\n",
       "  Text(20, 0, '2019/11'),\n",
       "  Text(21, 0, '2019/10'),\n",
       "  Text(22, 0, '2019/9')])"
      ]
     },
     "execution_count": 27,
     "metadata": {},
     "output_type": "execute_result"
    },
    {
     "data": {
      "text/plain": [
       "Text(0.5, 1.0, 'Consumer Price Index for Residential')"
      ]
     },
     "execution_count": 27,
     "metadata": {},
     "output_type": "execute_result"
    },
    {
     "data": {
      "image/png": "[encoded data removed]",
      "text/plain": [
       "<Figure size 432x288 with 1 Axes>"
      ]
     },
     "metadata": {
      "needs_background": "light"
     },
     "output_type": "display_data"
    }
   ],
   "source": [
    "x = range(len(names))\n",
    "y = list(df['Consumer Price Index for Residential'])\n",
    "plt.bar(x, y, alpha=0.6)\n",
    "plt.xticks(x, names, rotation=45)\n",
    "plt.title('Consumer Price Index for Residential')"
   ]
  },
  {
   "cell_type": "code",
   "execution_count": 28,
   "metadata": {
    "scrolled": true
   },
   "outputs": [
    {
     "data": {
      "text/plain": [
       "<BarContainer object of 23 artists>"
      ]
     },
     "execution_count": 28,
     "metadata": {},
     "output_type": "execute_result"
    },
    {
     "data": {
      "text/plain": [
       "([<matplotlib.axis.XTick at 0x126655240>,\n",
       "  <matplotlib.axis.XTick at 0x12664fd68>,\n",
       "  <matplotlib.axis.XTick at 0x1264035f8>,\n",
       "  <matplotlib.axis.XTick at 0x126716c18>,\n",
       "  <matplotlib.axis.XTick at 0x1265c2278>,\n",
       "  <matplotlib.axis.XTick at 0x1265c2390>,\n",
       "  <matplotlib.axis.XTick at 0x1265c29b0>,\n",
       "  <matplotlib.axis.XTick at 0x1265c9518>,\n",
       "  <matplotlib.axis.XTick at 0x1265c2828>,\n",
       "  <matplotlib.axis.XTick at 0x1265c9470>,\n",
       "  <matplotlib.axis.XTick at 0x1265c9048>,\n",
       "  <matplotlib.axis.XTick at 0x1265d42e8>,\n",
       "  <matplotlib.axis.XTick at 0x1265d4400>,\n",
       "  <matplotlib.axis.XTick at 0x1265d4a20>,\n",
       "  <matplotlib.axis.XTick at 0x1265dd080>,\n",
       "  <matplotlib.axis.XTick at 0x1265d4898>,\n",
       "  <matplotlib.axis.XTick at 0x126716d68>,\n",
       "  <matplotlib.axis.XTick at 0x1265dd978>,\n",
       "  <matplotlib.axis.XTick at 0x1265dda90>,\n",
       "  <matplotlib.axis.XTick at 0x1265e90f0>,\n",
       "  <matplotlib.axis.XTick at 0x1265e9710>,\n",
       "  <matplotlib.axis.XTick at 0x1265f2278>,\n",
       "  <matplotlib.axis.XTick at 0x1265e9be0>],\n",
       " [Text(0, 0, '2021/7'),\n",
       "  Text(1, 0, '2021/6'),\n",
       "  Text(2, 0, '2021/5'),\n",
       "  Text(3, 0, '2021/4'),\n",
       "  Text(4, 0, '2021/3'),\n",
       "  Text(5, 0, '2021/2'),\n",
       "  Text(6, 0, '2021/1'),\n",
       "  Text(7, 0, '2020/12'),\n",
       "  Text(8, 0, '2020/11'),\n",
       "  Text(9, 0, '2020/10'),\n",
       "  Text(10, 0, '2020/9'),\n",
       "  Text(11, 0, '2020/8'),\n",
       "  Text(12, 0, '2020/7'),\n",
       "  Text(13, 0, '2020/6'),\n",
       "  Text(14, 0, '2020/5'),\n",
       "  Text(15, 0, '2020/4'),\n",
       "  Text(16, 0, '2020/3'),\n",
       "  Text(17, 0, '2020/2'),\n",
       "  Text(18, 0, '2020/1'),\n",
       "  Text(19, 0, '2019/12'),\n",
       "  Text(20, 0, '2019/11'),\n",
       "  Text(21, 0, '2019/10'),\n",
       "  Text(22, 0, '2019/9')])"
      ]
     },
     "execution_count": 28,
     "metadata": {},
     "output_type": "execute_result"
    },
    {
     "data": {
      "text/plain": [
       "Text(0.5, 1.0, 'Consumer Price Index for Daily Necessities')"
      ]
     },
     "execution_count": 28,
     "metadata": {},
     "output_type": "execute_result"
    },
    {
     "data": {
      "image/png": "[encoded data removed]",
      "text/plain": [
       "<Figure size 432x288 with 1 Axes>"
      ]
     },
     "metadata": {
      "needs_background": "light"
     },
     "output_type": "display_data"
    }
   ],
   "source": [
    "x = range(len(names))\n",
    "y = list(df['Consumer Price Index for Daily Necessities'])\n",
    "plt.bar(x, y, alpha=0.6)\n",
    "plt.xticks(x, names, rotation=45)\n",
    "plt.title('Consumer Price Index for Daily Necessities')"
   ]
  },
  {
   "cell_type": "code",
   "execution_count": 29,
   "metadata": {
    "scrolled": true
   },
   "outputs": [
    {
     "data": {
      "text/plain": [
       "<BarContainer object of 23 artists>"
      ]
     },
     "execution_count": 29,
     "metadata": {},
     "output_type": "execute_result"
    },
    {
     "data": {
      "text/plain": [
       "([<matplotlib.axis.XTick at 0x1268786d8>,\n",
       "  <matplotlib.axis.XTick at 0x126878240>,\n",
       "  <matplotlib.axis.XTick at 0x1267898d0>,\n",
       "  <matplotlib.axis.XTick at 0x1267b2208>,\n",
       "  <matplotlib.axis.XTick at 0x1267b2320>,\n",
       "  <matplotlib.axis.XTick at 0x1267b2940>,\n",
       "  <matplotlib.axis.XTick at 0x1267be4a8>,\n",
       "  <matplotlib.axis.XTick at 0x1267be5c0>,\n",
       "  <matplotlib.axis.XTick at 0x1267b2978>,\n",
       "  <matplotlib.axis.XTick at 0x1267be3c8>,\n",
       "  <matplotlib.axis.XTick at 0x1267c7278>,\n",
       "  <matplotlib.axis.XTick at 0x1267c7390>,\n",
       "  <matplotlib.axis.XTick at 0x1267c79b0>,\n",
       "  <matplotlib.axis.XTick at 0x1268e2518>,\n",
       "  <matplotlib.axis.XTick at 0x1268e2630>,\n",
       "  <matplotlib.axis.XTick at 0x1267c7828>,\n",
       "  <matplotlib.axis.XTick at 0x1268e2ba8>,\n",
       "  <matplotlib.axis.XTick at 0x1268e2a90>,\n",
       "  <matplotlib.axis.XTick at 0x1268ee048>,\n",
       "  <matplotlib.axis.XTick at 0x1268ee6a0>,\n",
       "  <matplotlib.axis.XTick at 0x1268f8208>,\n",
       "  <matplotlib.axis.XTick at 0x1268f8320>,\n",
       "  <matplotlib.axis.XTick at 0x1268eeac8>],\n",
       " [Text(0, 0, '2021/7'),\n",
       "  Text(1, 0, '2021/6'),\n",
       "  Text(2, 0, '2021/5'),\n",
       "  Text(3, 0, '2021/4'),\n",
       "  Text(4, 0, '2021/3'),\n",
       "  Text(5, 0, '2021/2'),\n",
       "  Text(6, 0, '2021/1'),\n",
       "  Text(7, 0, '2020/12'),\n",
       "  Text(8, 0, '2020/11'),\n",
       "  Text(9, 0, '2020/10'),\n",
       "  Text(10, 0, '2020/9'),\n",
       "  Text(11, 0, '2020/8'),\n",
       "  Text(12, 0, '2020/7'),\n",
       "  Text(13, 0, '2020/6'),\n",
       "  Text(14, 0, '2020/5'),\n",
       "  Text(15, 0, '2020/4'),\n",
       "  Text(16, 0, '2020/3'),\n",
       "  Text(17, 0, '2020/2'),\n",
       "  Text(18, 0, '2020/1'),\n",
       "  Text(19, 0, '2019/12'),\n",
       "  Text(20, 0, '2019/11'),\n",
       "  Text(21, 0, '2019/10'),\n",
       "  Text(22, 0, '2019/9')])"
      ]
     },
     "execution_count": 29,
     "metadata": {},
     "output_type": "execute_result"
    },
    {
     "data": {
      "text/plain": [
       "Text(0.5, 1.0, 'Consumer Price Index for Traffic and Communication')"
      ]
     },
     "execution_count": 29,
     "metadata": {},
     "output_type": "execute_result"
    },
    {
     "data": {
      "image/png": "[encoded data removed]",
      "text/plain": [
       "<Figure size 432x288 with 1 Axes>"
      ]
     },
     "metadata": {
      "needs_background": "light"
     },
     "output_type": "display_data"
    }
   ],
   "source": [
    "x = range(len(names))\n",
    "y = list(df['Consumer Price Index for Traffic and Communication'])\n",
    "plt.bar(x, y, alpha=0.6)\n",
    "plt.xticks(x, names, rotation=45)\n",
    "plt.title('Consumer Price Index for Traffic and Communication')"
   ]
  },
  {
   "cell_type": "code",
   "execution_count": 30,
   "metadata": {
    "scrolled": true
   },
   "outputs": [
    {
     "data": {
      "text/plain": [
       "<BarContainer object of 23 artists>"
      ]
     },
     "execution_count": 30,
     "metadata": {},
     "output_type": "execute_result"
    },
    {
     "data": {
      "text/plain": [
       "([<matplotlib.axis.XTick at 0x1269b3b70>,\n",
       "  <matplotlib.axis.XTick at 0x1269b36d8>,\n",
       "  <matplotlib.axis.XTick at 0x1269b3320>,\n",
       "  <matplotlib.axis.XTick at 0x126a79630>,\n",
       "  <matplotlib.axis.XTick at 0x126a79748>,\n",
       "  <matplotlib.axis.XTick at 0x1269242e8>,\n",
       "  <matplotlib.axis.XTick at 0x126924400>,\n",
       "  <matplotlib.axis.XTick at 0x126924a20>,\n",
       "  <matplotlib.axis.XTick at 0x1269245f8>,\n",
       "  <matplotlib.axis.XTick at 0x126a79e80>,\n",
       "  <matplotlib.axis.XTick at 0x12692e1d0>,\n",
       "  <matplotlib.axis.XTick at 0x12692e7f0>,\n",
       "  <matplotlib.axis.XTick at 0x126939358>,\n",
       "  <matplotlib.axis.XTick at 0x126939470>,\n",
       "  <matplotlib.axis.XTick at 0x126939a90>,\n",
       "  <matplotlib.axis.XTick at 0x126939908>,\n",
       "  <matplotlib.axis.XTick at 0x12692e400>,\n",
       "  <matplotlib.axis.XTick at 0x126941358>,\n",
       "  <matplotlib.axis.XTick at 0x126941470>,\n",
       "  <matplotlib.axis.XTick at 0x126941a90>,\n",
       "  <matplotlib.axis.XTick at 0x12694e0f0>,\n",
       "  <matplotlib.axis.XTick at 0x12694e710>,\n",
       "  <matplotlib.axis.XTick at 0x126941be0>],\n",
       " [Text(0, 0, '2021/7'),\n",
       "  Text(1, 0, '2021/6'),\n",
       "  Text(2, 0, '2021/5'),\n",
       "  Text(3, 0, '2021/4'),\n",
       "  Text(4, 0, '2021/3'),\n",
       "  Text(5, 0, '2021/2'),\n",
       "  Text(6, 0, '2021/1'),\n",
       "  Text(7, 0, '2020/12'),\n",
       "  Text(8, 0, '2020/11'),\n",
       "  Text(9, 0, '2020/10'),\n",
       "  Text(10, 0, '2020/9'),\n",
       "  Text(11, 0, '2020/8'),\n",
       "  Text(12, 0, '2020/7'),\n",
       "  Text(13, 0, '2020/6'),\n",
       "  Text(14, 0, '2020/5'),\n",
       "  Text(15, 0, '2020/4'),\n",
       "  Text(16, 0, '2020/3'),\n",
       "  Text(17, 0, '2020/2'),\n",
       "  Text(18, 0, '2020/1'),\n",
       "  Text(19, 0, '2019/12'),\n",
       "  Text(20, 0, '2019/11'),\n",
       "  Text(21, 0, '2019/10'),\n",
       "  Text(22, 0, '2019/9')])"
      ]
     },
     "execution_count": 30,
     "metadata": {},
     "output_type": "execute_result"
    },
    {
     "data": {
      "text/plain": [
       "Text(0.5, 1.0, 'Consumer Price Index for Education culture and Entertainment')"
      ]
     },
     "execution_count": 30,
     "metadata": {},
     "output_type": "execute_result"
    },
    {
     "data": {
      "image/png": "[encoded data removed]",
      "text/plain": [
       "<Figure size 432x288 with 1 Axes>"
      ]
     },
     "metadata": {
      "needs_background": "light"
     },
     "output_type": "display_data"
    }
   ],
   "source": [
    "x = range(len(names))\n",
    "y = list(df['Consumer Price Index for Education culture and Entertainment'])\n",
    "plt.bar(x, y, alpha=0.6)\n",
    "plt.xticks(x, names, rotation=45)\n",
    "plt.title('Consumer Price Index for Education culture and Entertainment')"
   ]
  },
  {
   "cell_type": "code",
   "execution_count": 31,
   "metadata": {
    "scrolled": true
   },
   "outputs": [
    {
     "data": {
      "text/plain": [
       "<BarContainer object of 23 artists>"
      ]
     },
     "execution_count": 31,
     "metadata": {},
     "output_type": "execute_result"
    },
    {
     "data": {
      "text/plain": [
       "([<matplotlib.axis.XTick at 0x126b57be0>,\n",
       "  <matplotlib.axis.XTick at 0x126b57780>,\n",
       "  <matplotlib.axis.XTick at 0x126b573c8>,\n",
       "  <matplotlib.axis.XTick at 0x126c114e0>,\n",
       "  <matplotlib.axis.XTick at 0x126c11470>,\n",
       "  <matplotlib.axis.XTick at 0x126c111d0>,\n",
       "  <matplotlib.axis.XTick at 0x126ab3550>,\n",
       "  <matplotlib.axis.XTick at 0x126ab3668>,\n",
       "  <matplotlib.axis.XTick at 0x126abe1d0>,\n",
       "  <matplotlib.axis.XTick at 0x126abe2e8>,\n",
       "  <matplotlib.axis.XTick at 0x126ab3b38>,\n",
       "  <matplotlib.axis.XTick at 0x126c11b38>,\n",
       "  <matplotlib.axis.XTick at 0x126abe320>,\n",
       "  <matplotlib.axis.XTick at 0x126ac8400>,\n",
       "  <matplotlib.axis.XTick at 0x126ac8518>,\n",
       "  <matplotlib.axis.XTick at 0x126acf080>,\n",
       "  <matplotlib.axis.XTick at 0x126acf198>,\n",
       "  <matplotlib.axis.XTick at 0x126ac8c50>,\n",
       "  <matplotlib.axis.XTick at 0x126abeeb8>,\n",
       "  <matplotlib.axis.XTick at 0x126acf3c8>,\n",
       "  <matplotlib.axis.XTick at 0x126adf1d0>,\n",
       "  <matplotlib.axis.XTick at 0x126adf2e8>,\n",
       "  <matplotlib.axis.XTick at 0x126adf908>],\n",
       " [Text(0, 0, '2021/7'),\n",
       "  Text(1, 0, '2021/6'),\n",
       "  Text(2, 0, '2021/5'),\n",
       "  Text(3, 0, '2021/4'),\n",
       "  Text(4, 0, '2021/3'),\n",
       "  Text(5, 0, '2021/2'),\n",
       "  Text(6, 0, '2021/1'),\n",
       "  Text(7, 0, '2020/12'),\n",
       "  Text(8, 0, '2020/11'),\n",
       "  Text(9, 0, '2020/10'),\n",
       "  Text(10, 0, '2020/9'),\n",
       "  Text(11, 0, '2020/8'),\n",
       "  Text(12, 0, '2020/7'),\n",
       "  Text(13, 0, '2020/6'),\n",
       "  Text(14, 0, '2020/5'),\n",
       "  Text(15, 0, '2020/4'),\n",
       "  Text(16, 0, '2020/3'),\n",
       "  Text(17, 0, '2020/2'),\n",
       "  Text(18, 0, '2020/1'),\n",
       "  Text(19, 0, '2019/12'),\n",
       "  Text(20, 0, '2019/11'),\n",
       "  Text(21, 0, '2019/10'),\n",
       "  Text(22, 0, '2019/9')])"
      ]
     },
     "execution_count": 31,
     "metadata": {},
     "output_type": "execute_result"
    },
    {
     "data": {
      "text/plain": [
       "Text(0.5, 1.0, 'Consumer Price Index for Healthcare')"
      ]
     },
     "execution_count": 31,
     "metadata": {},
     "output_type": "execute_result"
    },
    {
     "data": {
      "image/png": "[encoded data removed]",
      "text/plain": [
       "<Figure size 432x288 with 1 Axes>"
      ]
     },
     "metadata": {
      "needs_background": "light"
     },
     "output_type": "display_data"
    }
   ],
   "source": [
    "x = range(len(names))\n",
    "y = list(df['Consumer Price Index for Healthcare'])\n",
    "plt.bar(x, y, alpha=0.6)\n",
    "plt.xticks(x, names, rotation=45)\n",
    "plt.title('Consumer Price Index for Healthcare')"
   ]
  },
  {
   "cell_type": "code",
   "execution_count": null,
   "metadata": {},
   "outputs": [],
   "source": []
  },
  {
   "cell_type": "code",
   "execution_count": null,
   "metadata": {},
   "outputs": [],
   "source": []
  },
  {
   "cell_type": "code",
   "execution_count": null,
   "metadata": {},
   "outputs": [],
   "source": []
  },
  {
   "cell_type": "code",
   "execution_count": 33,
   "metadata": {},
   "outputs": [
    {
     "data": {
      "text/html": [
       "<div>\n",
       "<style scoped>\n",
       "    .dataframe tbody tr th:only-of-type {\n",
       "        vertical-align: middle;\n",
       "    }\n",
       "\n",
       "    .dataframe tbody tr th {\n",
       "        vertical-align: top;\n",
       "    }\n",
       "\n",
       "    .dataframe thead th {\n",
       "        text-align: right;\n",
       "    }\n",
       "</style>\n",
       "<table border=\"1\" class=\"dataframe\">\n",
       "  <thead>\n",
       "    <tr style=\"text-align: right;\">\n",
       "      <th></th>\n",
       "      <th>APP category</th>\n",
       "      <th>Number in 2021 (million)</th>\n",
       "      <th>Number in 2020 (million)</th>\n",
       "      <th>Number in 2019 (million)</th>\n",
       "      <th>growth rate 2021</th>\n",
       "      <th>growth rate 2021.1</th>\n",
       "    </tr>\n",
       "  </thead>\n",
       "  <tbody>\n",
       "    <tr>\n",
       "      <th>0</th>\n",
       "      <td>News</td>\n",
       "      <td>1080.53</td>\n",
       "      <td>981.99</td>\n",
       "      <td>873.093109</td>\n",
       "      <td>0.100347</td>\n",
       "      <td>0.124725</td>\n",
       "    </tr>\n",
       "    <tr>\n",
       "      <th>1</th>\n",
       "      <td>E-commerce</td>\n",
       "      <td>1510.41</td>\n",
       "      <td>1447.84</td>\n",
       "      <td>1096.746566</td>\n",
       "      <td>0.043216</td>\n",
       "      <td>0.320123</td>\n",
       "    </tr>\n",
       "    <tr>\n",
       "      <th>2</th>\n",
       "      <td>Social network</td>\n",
       "      <td>832.63</td>\n",
       "      <td>808.77</td>\n",
       "      <td>734.188728</td>\n",
       "      <td>0.029502</td>\n",
       "      <td>0.101583</td>\n",
       "    </tr>\n",
       "    <tr>\n",
       "      <th>3</th>\n",
       "      <td>Search engine</td>\n",
       "      <td>586.48</td>\n",
       "      <td>551.26</td>\n",
       "      <td>530.700485</td>\n",
       "      <td>0.063890</td>\n",
       "      <td>0.038740</td>\n",
       "    </tr>\n",
       "    <tr>\n",
       "      <th>4</th>\n",
       "      <td>Financial management</td>\n",
       "      <td>900.95</td>\n",
       "      <td>921.44</td>\n",
       "      <td>888.568317</td>\n",
       "      <td>-0.022237</td>\n",
       "      <td>0.036994</td>\n",
       "    </tr>\n",
       "    <tr>\n",
       "      <th>5</th>\n",
       "      <td>Education tool</td>\n",
       "      <td>188.18</td>\n",
       "      <td>187.17</td>\n",
       "      <td>142.452057</td>\n",
       "      <td>0.005396</td>\n",
       "      <td>0.313916</td>\n",
       "    </tr>\n",
       "    <tr>\n",
       "      <th>6</th>\n",
       "      <td>Food takeaway</td>\n",
       "      <td>189.75</td>\n",
       "      <td>190.11</td>\n",
       "      <td>163.860205</td>\n",
       "      <td>-0.001894</td>\n",
       "      <td>0.160196</td>\n",
       "    </tr>\n",
       "    <tr>\n",
       "      <th>7</th>\n",
       "      <td>Communication chat</td>\n",
       "      <td>1990.71</td>\n",
       "      <td>2002.46</td>\n",
       "      <td>1927.803351</td>\n",
       "      <td>-0.005868</td>\n",
       "      <td>0.038726</td>\n",
       "    </tr>\n",
       "    <tr>\n",
       "      <th>8</th>\n",
       "      <td>Game service</td>\n",
       "      <td>445.13</td>\n",
       "      <td>454.82</td>\n",
       "      <td>404.280688</td>\n",
       "      <td>-0.021305</td>\n",
       "      <td>0.125010</td>\n",
       "    </tr>\n",
       "    <tr>\n",
       "      <th>9</th>\n",
       "      <td>Parent-child service</td>\n",
       "      <td>99.77</td>\n",
       "      <td>92.52</td>\n",
       "      <td>89.360804</td>\n",
       "      <td>0.078361</td>\n",
       "      <td>0.035353</td>\n",
       "    </tr>\n",
       "    <tr>\n",
       "      <th>10</th>\n",
       "      <td>Video service</td>\n",
       "      <td>2725.81</td>\n",
       "      <td>2769.72</td>\n",
       "      <td>2438.557416</td>\n",
       "      <td>-0.015854</td>\n",
       "      <td>0.135803</td>\n",
       "    </tr>\n",
       "    <tr>\n",
       "      <th>11</th>\n",
       "      <td>Health care</td>\n",
       "      <td>52.69</td>\n",
       "      <td>51.45</td>\n",
       "      <td>46.433840</td>\n",
       "      <td>0.024101</td>\n",
       "      <td>0.108028</td>\n",
       "    </tr>\n",
       "    <tr>\n",
       "      <th>12</th>\n",
       "      <td>E-reading</td>\n",
       "      <td>305.94</td>\n",
       "      <td>283.42</td>\n",
       "      <td>262.307756</td>\n",
       "      <td>0.079458</td>\n",
       "      <td>0.080487</td>\n",
       "    </tr>\n",
       "    <tr>\n",
       "      <th>13</th>\n",
       "      <td>Office management</td>\n",
       "      <td>345.26</td>\n",
       "      <td>358.63</td>\n",
       "      <td>284.159969</td>\n",
       "      <td>-0.037281</td>\n",
       "      <td>0.262071</td>\n",
       "    </tr>\n",
       "    <tr>\n",
       "      <th>14</th>\n",
       "      <td>Music audio</td>\n",
       "      <td>1210.58</td>\n",
       "      <td>1141.32</td>\n",
       "      <td>1096.353184</td>\n",
       "      <td>0.060684</td>\n",
       "      <td>0.041015</td>\n",
       "    </tr>\n",
       "  </tbody>\n",
       "</table>\n",
       "</div>"
      ],
      "text/plain": [
       "            APP category  Number in 2021 (million)  Number in 2020 (million)  \\\n",
       "0                   News                   1080.53                    981.99   \n",
       "1             E-commerce                   1510.41                   1447.84   \n",
       "2         Social network                    832.63                    808.77   \n",
       "3          Search engine                    586.48                    551.26   \n",
       "4   Financial management                    900.95                    921.44   \n",
       "5         Education tool                    188.18                    187.17   \n",
       "6          Food takeaway                    189.75                    190.11   \n",
       "7     Communication chat                   1990.71                   2002.46   \n",
       "8           Game service                    445.13                    454.82   \n",
       "9   Parent-child service                     99.77                     92.52   \n",
       "10         Video service                   2725.81                   2769.72   \n",
       "11           Health care                     52.69                     51.45   \n",
       "12             E-reading                    305.94                    283.42   \n",
       "13     Office management                    345.26                    358.63   \n",
       "14           Music audio                   1210.58                   1141.32   \n",
       "\n",
       "    Number in 2019 (million)  growth rate 2021  growth rate 2021.1  \n",
       "0                 873.093109          0.100347            0.124725  \n",
       "1                1096.746566          0.043216            0.320123  \n",
       "2                 734.188728          0.029502            0.101583  \n",
       "3                 530.700485          0.063890            0.038740  \n",
       "4                 888.568317         -0.022237            0.036994  \n",
       "5                 142.452057          0.005396            0.313916  \n",
       "6                 163.860205         -0.001894            0.160196  \n",
       "7                1927.803351         -0.005868            0.038726  \n",
       "8                 404.280688         -0.021305            0.125010  \n",
       "9                  89.360804          0.078361            0.035353  \n",
       "10               2438.557416         -0.015854            0.135803  \n",
       "11                 46.433840          0.024101            0.108028  \n",
       "12                262.307756          0.079458            0.080487  \n",
       "13                284.159969         -0.037281            0.262071  \n",
       "14               1096.353184          0.060684            0.041015  "
      ]
     },
     "execution_count": 33,
     "metadata": {},
     "output_type": "execute_result"
    }
   ],
   "source": [
    "df = pd.read_excel('app data.xlsx')\n",
    "df"
   ]
  },
  {
   "cell_type": "code",
   "execution_count": 34,
   "metadata": {},
   "outputs": [
    {
     "data": {
      "text/plain": [
       "['News',\n",
       " 'E-commerce',\n",
       " 'Social network',\n",
       " 'Search engine',\n",
       " 'Financial management',\n",
       " 'Education tool',\n",
       " 'Food takeaway',\n",
       " 'Communication chat',\n",
       " 'Game service',\n",
       " 'Parent-child service',\n",
       " 'Video service',\n",
       " 'Health care',\n",
       " 'E-reading',\n",
       " 'Office management',\n",
       " 'Music audio']"
      ]
     },
     "execution_count": 34,
     "metadata": {},
     "output_type": "execute_result"
    }
   ],
   "source": [
    "names=list(df['APP category'])\n",
    "names"
   ]
  },
  {
   "cell_type": "code",
   "execution_count": 37,
   "metadata": {},
   "outputs": [
    {
     "data": {
      "text/plain": [
       "<BarContainer object of 15 artists>"
      ]
     },
     "execution_count": 37,
     "metadata": {},
     "output_type": "execute_result"
    },
    {
     "data": {
      "text/plain": [
       "([<matplotlib.axis.XTick at 0x1271b6ba8>,\n",
       "  <matplotlib.axis.XTick at 0x1271b6710>,\n",
       "  <matplotlib.axis.XTick at 0x1271b66d8>,\n",
       "  <matplotlib.axis.XTick at 0x1274a3518>,\n",
       "  <matplotlib.axis.XTick at 0x1274a3630>,\n",
       "  <matplotlib.axis.XTick at 0x1274b5198>,\n",
       "  <matplotlib.axis.XTick at 0x1274b52b0>,\n",
       "  <matplotlib.axis.XTick at 0x1274a3cc0>,\n",
       "  <matplotlib.axis.XTick at 0x1274b5160>,\n",
       "  <matplotlib.axis.XTick at 0x1274bd198>,\n",
       "  <matplotlib.axis.XTick at 0x1274bd2b0>,\n",
       "  <matplotlib.axis.XTick at 0x1274bd8d0>,\n",
       "  <matplotlib.axis.XTick at 0x1274c6438>,\n",
       "  <matplotlib.axis.XTick at 0x1274c6550>,\n",
       "  <matplotlib.axis.XTick at 0x1274bd908>],\n",
       " [Text(0, 0, 'News'),\n",
       "  Text(1, 0, 'E-commerce'),\n",
       "  Text(2, 0, 'Social network'),\n",
       "  Text(3, 0, 'Search engine'),\n",
       "  Text(4, 0, 'Financial management'),\n",
       "  Text(5, 0, 'Education tool'),\n",
       "  Text(6, 0, 'Food takeaway'),\n",
       "  Text(7, 0, 'Communication chat'),\n",
       "  Text(8, 0, 'Game service'),\n",
       "  Text(9, 0, 'Parent-child service'),\n",
       "  Text(10, 0, 'Video service'),\n",
       "  Text(11, 0, 'Health care'),\n",
       "  Text(12, 0, 'E-reading'),\n",
       "  Text(13, 0, 'Office management'),\n",
       "  Text(14, 0, 'Music audio')])"
      ]
     },
     "execution_count": 37,
     "metadata": {},
     "output_type": "execute_result"
    },
    {
     "data": {
      "text/plain": [
       "Text(0.5, 1.0, 'Users Number in 2021 (million)')"
      ]
     },
     "execution_count": 37,
     "metadata": {},
     "output_type": "execute_result"
    },
    {
     "data": {
      "image/png": "[encoded data removed]",
      "text/plain": [
       "<Figure size 648x360 with 1 Axes>"
      ]
     },
     "metadata": {
      "needs_background": "light"
     },
     "output_type": "display_data"
    }
   ],
   "source": [
    "figsize = 9, 5\n",
    "\n",
    "figure, ax = plt.subplots(figsize=figsize)\n",
    "\n",
    "x = range(len(names))\n",
    "y = list(df['Number in 2021 (million)'])\n",
    "\n",
    "plt.bar(x, y, alpha=0.6)\n",
    "plt.xticks(x, names, rotation=45)\n",
    "plt.title('Users Number in 2021 (million)')"
   ]
  },
  {
   "cell_type": "code",
   "execution_count": 38,
   "metadata": {},
   "outputs": [
    {
     "data": {
      "text/plain": [
       "<BarContainer object of 15 artists>"
      ]
     },
     "execution_count": 38,
     "metadata": {},
     "output_type": "execute_result"
    },
    {
     "data": {
      "text/plain": [
       "([<matplotlib.axis.XTick at 0x12750f278>,\n",
       "  <matplotlib.axis.XTick at 0x1274f7da0>,\n",
       "  <matplotlib.axis.XTick at 0x1274f79e8>,\n",
       "  <matplotlib.axis.XTick at 0x127551c88>,\n",
       "  <matplotlib.axis.XTick at 0x1275612e8>,\n",
       "  <matplotlib.axis.XTick at 0x127561400>,\n",
       "  <matplotlib.axis.XTick at 0x127551e10>,\n",
       "  <matplotlib.axis.XTick at 0x127561278>,\n",
       "  <matplotlib.axis.XTick at 0x12756b518>,\n",
       "  <matplotlib.axis.XTick at 0x12756b630>,\n",
       "  <matplotlib.axis.XTick at 0x127574198>,\n",
       "  <matplotlib.axis.XTick at 0x1275742b0>,\n",
       "  <matplotlib.axis.XTick at 0x1275748d0>,\n",
       "  <matplotlib.axis.XTick at 0x127574ef0>,\n",
       "  <matplotlib.axis.XTick at 0x12756b6a0>],\n",
       " [Text(0, 0, 'News'),\n",
       "  Text(1, 0, 'E-commerce'),\n",
       "  Text(2, 0, 'Social network'),\n",
       "  Text(3, 0, 'Search engine'),\n",
       "  Text(4, 0, 'Financial management'),\n",
       "  Text(5, 0, 'Education tool'),\n",
       "  Text(6, 0, 'Food takeaway'),\n",
       "  Text(7, 0, 'Communication chat'),\n",
       "  Text(8, 0, 'Game service'),\n",
       "  Text(9, 0, 'Parent-child service'),\n",
       "  Text(10, 0, 'Video service'),\n",
       "  Text(11, 0, 'Health care'),\n",
       "  Text(12, 0, 'E-reading'),\n",
       "  Text(13, 0, 'Office management'),\n",
       "  Text(14, 0, 'Music audio')])"
      ]
     },
     "execution_count": 38,
     "metadata": {},
     "output_type": "execute_result"
    },
    {
     "data": {
      "text/plain": [
       "Text(0.5, 1.0, 'Users Number growth rate in 2021')"
      ]
     },
     "execution_count": 38,
     "metadata": {},
     "output_type": "execute_result"
    },
    {
     "data": {
      "image/png": "[encoded data removed]",
      "text/plain": [
       "<Figure size 648x360 with 1 Axes>"
      ]
     },
     "metadata": {
      "needs_background": "light"
     },
     "output_type": "display_data"
    }
   ],
   "source": [
    "figsize = 9, 5\n",
    "\n",
    "figure, ax = plt.subplots(figsize=figsize)\n",
    "\n",
    "x = range(len(names))\n",
    "y = list(df['growth rate 2021.1'])\n",
    "\n",
    "plt.bar(x, y, alpha=0.8)\n",
    "plt.xticks(x, names, rotation=45)\n",
    "plt.title('Users Number growth rate in 2021')"
   ]
  },
  {
   "cell_type": "code",
   "execution_count": null,
   "metadata": {},
   "outputs": [],
   "source": []
  }
 ],
 "metadata": {
  "kernelspec": {
   "display_name": "Python 3",
   "language": "python",
   "name": "python3"
  },
  "language_info": {
   "codemirror_mode": {
    "name": "ipython",
    "version": 3
   },
   "file_extension": ".py",
   "mimetype": "text/x-python",
   "name": "python",
   "nbconvert_exporter": "python",
   "pygments_lexer": "ipython3",
   "version": "3.7.3"
  }
 },
 "nbformat": 4,
 "nbformat_minor": 2
}
